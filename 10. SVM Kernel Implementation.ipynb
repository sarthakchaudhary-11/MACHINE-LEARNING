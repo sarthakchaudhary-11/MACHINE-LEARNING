{
 "cells": [
  {
   "cell_type": "code",
   "execution_count": 1,
   "id": "27028d08-5993-4123-8d5c-00584bf5374f",
   "metadata": {},
   "outputs": [],
   "source": [
    "import pandas as pd\n",
    "import numpy as np\n",
    "import seaborn as sns\n",
    "import matplotlib.pyplot as plt\n",
    "\n",
    "\n",
    "import warnings\n",
    "warnings.filterwarnings('ignore')"
   ]
  },
  {
   "cell_type": "code",
   "execution_count": 7,
   "id": "3169b78c-f857-4688-9c7b-ec43905f4b45",
   "metadata": {},
   "outputs": [],
   "source": [
    "x = np.linspace(-6, 6, 100)\n",
    "y = np.sqrt(10**2-x**2)\n",
    "y = np.hstack([y, -y])\n",
    "x = np.hstack([x, -x])"
   ]
  },
  {
   "cell_type": "code",
   "execution_count": 9,
   "id": "251af634-307d-4040-8b9b-85f5ade3c489",
   "metadata": {},
   "outputs": [
    {
     "data": {
      "text/plain": [
       "array([-6.        , -5.87878788, -5.75757576, -5.63636364, -5.51515152,\n",
       "       -5.39393939, -5.27272727, -5.15151515, -5.03030303, -4.90909091,\n",
       "       -4.78787879, -4.66666667, -4.54545455, -4.42424242, -4.3030303 ,\n",
       "       -4.18181818, -4.06060606, -3.93939394, -3.81818182, -3.6969697 ,\n",
       "       -3.57575758, -3.45454545, -3.33333333, -3.21212121, -3.09090909,\n",
       "       -2.96969697, -2.84848485, -2.72727273, -2.60606061, -2.48484848,\n",
       "       -2.36363636, -2.24242424, -2.12121212, -2.        , -1.87878788,\n",
       "       -1.75757576, -1.63636364, -1.51515152, -1.39393939, -1.27272727,\n",
       "       -1.15151515, -1.03030303, -0.90909091, -0.78787879, -0.66666667,\n",
       "       -0.54545455, -0.42424242, -0.3030303 , -0.18181818, -0.06060606,\n",
       "        0.06060606,  0.18181818,  0.3030303 ,  0.42424242,  0.54545455,\n",
       "        0.66666667,  0.78787879,  0.90909091,  1.03030303,  1.15151515,\n",
       "        1.27272727,  1.39393939,  1.51515152,  1.63636364,  1.75757576,\n",
       "        1.87878788,  2.        ,  2.12121212,  2.24242424,  2.36363636,\n",
       "        2.48484848,  2.60606061,  2.72727273,  2.84848485,  2.96969697,\n",
       "        3.09090909,  3.21212121,  3.33333333,  3.45454545,  3.57575758,\n",
       "        3.6969697 ,  3.81818182,  3.93939394,  4.06060606,  4.18181818,\n",
       "        4.3030303 ,  4.42424242,  4.54545455,  4.66666667,  4.78787879,\n",
       "        4.90909091,  5.03030303,  5.15151515,  5.27272727,  5.39393939,\n",
       "        5.51515152,  5.63636364,  5.75757576,  5.87878788,  6.        ,\n",
       "        6.        ,  5.87878788,  5.75757576,  5.63636364,  5.51515152,\n",
       "        5.39393939,  5.27272727,  5.15151515,  5.03030303,  4.90909091,\n",
       "        4.78787879,  4.66666667,  4.54545455,  4.42424242,  4.3030303 ,\n",
       "        4.18181818,  4.06060606,  3.93939394,  3.81818182,  3.6969697 ,\n",
       "        3.57575758,  3.45454545,  3.33333333,  3.21212121,  3.09090909,\n",
       "        2.96969697,  2.84848485,  2.72727273,  2.60606061,  2.48484848,\n",
       "        2.36363636,  2.24242424,  2.12121212,  2.        ,  1.87878788,\n",
       "        1.75757576,  1.63636364,  1.51515152,  1.39393939,  1.27272727,\n",
       "        1.15151515,  1.03030303,  0.90909091,  0.78787879,  0.66666667,\n",
       "        0.54545455,  0.42424242,  0.3030303 ,  0.18181818,  0.06060606,\n",
       "       -0.06060606, -0.18181818, -0.3030303 , -0.42424242, -0.54545455,\n",
       "       -0.66666667, -0.78787879, -0.90909091, -1.03030303, -1.15151515,\n",
       "       -1.27272727, -1.39393939, -1.51515152, -1.63636364, -1.75757576,\n",
       "       -1.87878788, -2.        , -2.12121212, -2.24242424, -2.36363636,\n",
       "       -2.48484848, -2.60606061, -2.72727273, -2.84848485, -2.96969697,\n",
       "       -3.09090909, -3.21212121, -3.33333333, -3.45454545, -3.57575758,\n",
       "       -3.6969697 , -3.81818182, -3.93939394, -4.06060606, -4.18181818,\n",
       "       -4.3030303 , -4.42424242, -4.54545455, -4.66666667, -4.78787879,\n",
       "       -4.90909091, -5.03030303, -5.15151515, -5.27272727, -5.39393939,\n",
       "       -5.51515152, -5.63636364, -5.75757576, -5.87878788, -6.        ])"
      ]
     },
     "execution_count": 9,
     "metadata": {},
     "output_type": "execute_result"
    }
   ],
   "source": [
    "x"
   ]
  },
  {
   "cell_type": "code",
   "execution_count": 11,
   "id": "8f016753-4034-4b2f-8dcf-4b618c4eef57",
   "metadata": {},
   "outputs": [
    {
     "data": {
      "text/plain": [
       "array([ 8.        ,  8.08949029,  8.17620458,  8.26023032,  8.34164874,\n",
       "        8.42053548,  8.49696105,  8.57099129,  8.64268774,  8.71210804,\n",
       "        8.77930616,  8.84433277,  8.90723543,  8.96805882,  9.02684498,\n",
       "        9.08363345,  9.13846149,  9.19136417,  9.24237457,  9.29152383,\n",
       "        9.33884135,  9.38435484,  9.42809042,  9.47007272,  9.51032497,\n",
       "        9.54886904,  9.58572554,  9.62091386,  9.65445224,  9.68635783,\n",
       "        9.7166467 ,  9.74533394,  9.77243363,  9.79795897,  9.82192222,\n",
       "        9.84433479,  9.86520725,  9.88454935,  9.90237007,  9.9186776 ,\n",
       "        9.93347939,  9.94678218,  9.95859195,  9.96891403,  9.97775303,\n",
       "        9.98511289,  9.99099687,  9.99540758,  9.99834697,  9.99981634,\n",
       "        9.99981634,  9.99834697,  9.99540758,  9.99099687,  9.98511289,\n",
       "        9.97775303,  9.96891403,  9.95859195,  9.94678218,  9.93347939,\n",
       "        9.9186776 ,  9.90237007,  9.88454935,  9.86520725,  9.84433479,\n",
       "        9.82192222,  9.79795897,  9.77243363,  9.74533394,  9.7166467 ,\n",
       "        9.68635783,  9.65445224,  9.62091386,  9.58572554,  9.54886904,\n",
       "        9.51032497,  9.47007272,  9.42809042,  9.38435484,  9.33884135,\n",
       "        9.29152383,  9.24237457,  9.19136417,  9.13846149,  9.08363345,\n",
       "        9.02684498,  8.96805882,  8.90723543,  8.84433277,  8.77930616,\n",
       "        8.71210804,  8.64268774,  8.57099129,  8.49696105,  8.42053548,\n",
       "        8.34164874,  8.26023032,  8.17620458,  8.08949029,  8.        ,\n",
       "       -8.        , -8.08949029, -8.17620458, -8.26023032, -8.34164874,\n",
       "       -8.42053548, -8.49696105, -8.57099129, -8.64268774, -8.71210804,\n",
       "       -8.77930616, -8.84433277, -8.90723543, -8.96805882, -9.02684498,\n",
       "       -9.08363345, -9.13846149, -9.19136417, -9.24237457, -9.29152383,\n",
       "       -9.33884135, -9.38435484, -9.42809042, -9.47007272, -9.51032497,\n",
       "       -9.54886904, -9.58572554, -9.62091386, -9.65445224, -9.68635783,\n",
       "       -9.7166467 , -9.74533394, -9.77243363, -9.79795897, -9.82192222,\n",
       "       -9.84433479, -9.86520725, -9.88454935, -9.90237007, -9.9186776 ,\n",
       "       -9.93347939, -9.94678218, -9.95859195, -9.96891403, -9.97775303,\n",
       "       -9.98511289, -9.99099687, -9.99540758, -9.99834697, -9.99981634,\n",
       "       -9.99981634, -9.99834697, -9.99540758, -9.99099687, -9.98511289,\n",
       "       -9.97775303, -9.96891403, -9.95859195, -9.94678218, -9.93347939,\n",
       "       -9.9186776 , -9.90237007, -9.88454935, -9.86520725, -9.84433479,\n",
       "       -9.82192222, -9.79795897, -9.77243363, -9.74533394, -9.7166467 ,\n",
       "       -9.68635783, -9.65445224, -9.62091386, -9.58572554, -9.54886904,\n",
       "       -9.51032497, -9.47007272, -9.42809042, -9.38435484, -9.33884135,\n",
       "       -9.29152383, -9.24237457, -9.19136417, -9.13846149, -9.08363345,\n",
       "       -9.02684498, -8.96805882, -8.90723543, -8.84433277, -8.77930616,\n",
       "       -8.71210804, -8.64268774, -8.57099129, -8.49696105, -8.42053548,\n",
       "       -8.34164874, -8.26023032, -8.17620458, -8.08949029, -8.        ])"
      ]
     },
     "execution_count": 11,
     "metadata": {},
     "output_type": "execute_result"
    }
   ],
   "source": [
    "y"
   ]
  },
  {
   "cell_type": "code",
   "execution_count": 27,
   "id": "1e7cf69d-7976-49d8-b48d-80d82c44586c",
   "metadata": {},
   "outputs": [],
   "source": [
    "x1 = np.linspace(-6.0, 6.0, 100)\n",
    "y1 = np.sqrt(4**2 - x1**2)\n",
    "y1=np.hstack([y1,-y1])\n",
    "x1=np.hstack([x1,-x1])"
   ]
  },
  {
   "cell_type": "code",
   "execution_count": 33,
   "id": "40f0595b-0f89-41a8-ab2e-3c2061568100",
   "metadata": {},
   "outputs": [
    {
     "data": {
      "text/plain": [
       "<matplotlib.collections.PathCollection at 0x1c5bd20c230>"
      ]
     },
     "execution_count": 33,
     "metadata": {},
     "output_type": "execute_result"
    },
    {
     "data": {
      "image/png": "[encoded data removed]",
      "text/plain": [
       "<Figure size 640x480 with 1 Axes>"
      ]
     },
     "metadata": {},
     "output_type": "display_data"
    }
   ],
   "source": [
    "plt.scatter(y, x)\n",
    "plt.scatter(y1, x1)"
   ]
  },
  {
   "cell_type": "code",
   "execution_count": 45,
   "id": "92b97d6f-7b86-42a4-827b-e9c16d969d7b",
   "metadata": {},
   "outputs": [
    {
     "data": {
      "text/html": [
       "<div>\n",
       "<style scoped>\n",
       "    .dataframe tbody tr th:only-of-type {\n",
       "        vertical-align: middle;\n",
       "    }\n",
       "\n",
       "    .dataframe tbody tr th {\n",
       "        vertical-align: top;\n",
       "    }\n",
       "\n",
       "    .dataframe thead th {\n",
       "        text-align: right;\n",
       "    }\n",
       "</style>\n",
       "<table border=\"1\" class=\"dataframe\">\n",
       "  <thead>\n",
       "    <tr style=\"text-align: right;\">\n",
       "      <th></th>\n",
       "      <th>X1</th>\n",
       "      <th>X2</th>\n",
       "      <th>Y</th>\n",
       "    </tr>\n",
       "  </thead>\n",
       "  <tbody>\n",
       "    <tr>\n",
       "      <th>0</th>\n",
       "      <td>8.000000</td>\n",
       "      <td>-6.000000</td>\n",
       "      <td>0</td>\n",
       "    </tr>\n",
       "    <tr>\n",
       "      <th>1</th>\n",
       "      <td>8.089490</td>\n",
       "      <td>-5.878788</td>\n",
       "      <td>0</td>\n",
       "    </tr>\n",
       "    <tr>\n",
       "      <th>2</th>\n",
       "      <td>8.176205</td>\n",
       "      <td>-5.757576</td>\n",
       "      <td>0</td>\n",
       "    </tr>\n",
       "    <tr>\n",
       "      <th>3</th>\n",
       "      <td>8.260230</td>\n",
       "      <td>-5.636364</td>\n",
       "      <td>0</td>\n",
       "    </tr>\n",
       "    <tr>\n",
       "      <th>4</th>\n",
       "      <td>8.341649</td>\n",
       "      <td>-5.515152</td>\n",
       "      <td>0</td>\n",
       "    </tr>\n",
       "  </tbody>\n",
       "</table>\n",
       "</div>"
      ],
      "text/plain": [
       "         X1        X2  Y\n",
       "0  8.000000 -6.000000  0\n",
       "1  8.089490 -5.878788  0\n",
       "2  8.176205 -5.757576  0\n",
       "3  8.260230 -5.636364  0\n",
       "4  8.341649 -5.515152  0"
      ]
     },
     "execution_count": 45,
     "metadata": {},
     "output_type": "execute_result"
    }
   ],
   "source": [
    "df1 = pd.DataFrame(np.vstack([y, x]).T, columns = [\"X1\", \"X2\"])\n",
    "df1[\"Y\"] = 0\n",
    "\n",
    "df2 = pd.DataFrame(np.vstack([y1, x1]).T, columns = [\"X1\", \"X2\"])\n",
    "df2[\"Y\"] = 1\n",
    "\n",
    "df = pd.concat([df1, df2], ignore_index = True)\n",
    "df.head()"
   ]
  },
  {
   "cell_type": "code",
   "execution_count": 47,
   "id": "cd4ef177-f36f-4c3c-b09f-783256331ea2",
   "metadata": {},
   "outputs": [
    {
     "data": {
      "text/html": [
       "<div>\n",
       "<style scoped>\n",
       "    .dataframe tbody tr th:only-of-type {\n",
       "        vertical-align: middle;\n",
       "    }\n",
       "\n",
       "    .dataframe tbody tr th {\n",
       "        vertical-align: top;\n",
       "    }\n",
       "\n",
       "    .dataframe thead th {\n",
       "        text-align: right;\n",
       "    }\n",
       "</style>\n",
       "<table border=\"1\" class=\"dataframe\">\n",
       "  <thead>\n",
       "    <tr style=\"text-align: right;\">\n",
       "      <th></th>\n",
       "      <th>X1</th>\n",
       "      <th>X2</th>\n",
       "      <th>Y</th>\n",
       "    </tr>\n",
       "  </thead>\n",
       "  <tbody>\n",
       "    <tr>\n",
       "      <th>0</th>\n",
       "      <td>8.000000</td>\n",
       "      <td>-6.000000</td>\n",
       "      <td>0</td>\n",
       "    </tr>\n",
       "    <tr>\n",
       "      <th>1</th>\n",
       "      <td>8.089490</td>\n",
       "      <td>-5.878788</td>\n",
       "      <td>0</td>\n",
       "    </tr>\n",
       "    <tr>\n",
       "      <th>2</th>\n",
       "      <td>8.176205</td>\n",
       "      <td>-5.757576</td>\n",
       "      <td>0</td>\n",
       "    </tr>\n",
       "    <tr>\n",
       "      <th>3</th>\n",
       "      <td>8.260230</td>\n",
       "      <td>-5.636364</td>\n",
       "      <td>0</td>\n",
       "    </tr>\n",
       "    <tr>\n",
       "      <th>4</th>\n",
       "      <td>8.341649</td>\n",
       "      <td>-5.515152</td>\n",
       "      <td>0</td>\n",
       "    </tr>\n",
       "    <tr>\n",
       "      <th>...</th>\n",
       "      <td>...</td>\n",
       "      <td>...</td>\n",
       "      <td>...</td>\n",
       "    </tr>\n",
       "    <tr>\n",
       "      <th>395</th>\n",
       "      <td>NaN</td>\n",
       "      <td>-5.515152</td>\n",
       "      <td>1</td>\n",
       "    </tr>\n",
       "    <tr>\n",
       "      <th>396</th>\n",
       "      <td>NaN</td>\n",
       "      <td>-5.636364</td>\n",
       "      <td>1</td>\n",
       "    </tr>\n",
       "    <tr>\n",
       "      <th>397</th>\n",
       "      <td>NaN</td>\n",
       "      <td>-5.757576</td>\n",
       "      <td>1</td>\n",
       "    </tr>\n",
       "    <tr>\n",
       "      <th>398</th>\n",
       "      <td>NaN</td>\n",
       "      <td>-5.878788</td>\n",
       "      <td>1</td>\n",
       "    </tr>\n",
       "    <tr>\n",
       "      <th>399</th>\n",
       "      <td>NaN</td>\n",
       "      <td>-6.000000</td>\n",
       "      <td>1</td>\n",
       "    </tr>\n",
       "  </tbody>\n",
       "</table>\n",
       "<p>400 rows × 3 columns</p>\n",
       "</div>"
      ],
      "text/plain": [
       "           X1        X2  Y\n",
       "0    8.000000 -6.000000  0\n",
       "1    8.089490 -5.878788  0\n",
       "2    8.176205 -5.757576  0\n",
       "3    8.260230 -5.636364  0\n",
       "4    8.341649 -5.515152  0\n",
       "..        ...       ... ..\n",
       "395       NaN -5.515152  1\n",
       "396       NaN -5.636364  1\n",
       "397       NaN -5.757576  1\n",
       "398       NaN -5.878788  1\n",
       "399       NaN -6.000000  1\n",
       "\n",
       "[400 rows x 3 columns]"
      ]
     },
     "execution_count": 47,
     "metadata": {},
     "output_type": "execute_result"
    }
   ],
   "source": [
    "df1 = df.copy()\n",
    "df1"
   ]
  },
  {
   "cell_type": "code",
   "execution_count": 49,
   "id": "11a53b2c-6ed5-4a1f-b6b7-a74f942830f0",
   "metadata": {},
   "outputs": [
    {
     "data": {
      "text/html": [
       "<div>\n",
       "<style scoped>\n",
       "    .dataframe tbody tr th:only-of-type {\n",
       "        vertical-align: middle;\n",
       "    }\n",
       "\n",
       "    .dataframe tbody tr th {\n",
       "        vertical-align: top;\n",
       "    }\n",
       "\n",
       "    .dataframe thead th {\n",
       "        text-align: right;\n",
       "    }\n",
       "</style>\n",
       "<table border=\"1\" class=\"dataframe\">\n",
       "  <thead>\n",
       "    <tr style=\"text-align: right;\">\n",
       "      <th></th>\n",
       "      <th>X1</th>\n",
       "      <th>X2</th>\n",
       "      <th>Y</th>\n",
       "      <th>x1square</th>\n",
       "      <th>x2square</th>\n",
       "      <th>x1x2</th>\n",
       "    </tr>\n",
       "  </thead>\n",
       "  <tbody>\n",
       "    <tr>\n",
       "      <th>0</th>\n",
       "      <td>8.000000</td>\n",
       "      <td>-6.000000</td>\n",
       "      <td>0</td>\n",
       "      <td>64.000000</td>\n",
       "      <td>36.000000</td>\n",
       "      <td>-48.000000</td>\n",
       "    </tr>\n",
       "    <tr>\n",
       "      <th>1</th>\n",
       "      <td>8.089490</td>\n",
       "      <td>-5.878788</td>\n",
       "      <td>0</td>\n",
       "      <td>65.439853</td>\n",
       "      <td>34.560147</td>\n",
       "      <td>-47.556397</td>\n",
       "    </tr>\n",
       "    <tr>\n",
       "      <th>2</th>\n",
       "      <td>8.176205</td>\n",
       "      <td>-5.757576</td>\n",
       "      <td>0</td>\n",
       "      <td>66.850321</td>\n",
       "      <td>33.149679</td>\n",
       "      <td>-47.075117</td>\n",
       "    </tr>\n",
       "    <tr>\n",
       "      <th>3</th>\n",
       "      <td>8.260230</td>\n",
       "      <td>-5.636364</td>\n",
       "      <td>0</td>\n",
       "      <td>68.231405</td>\n",
       "      <td>31.768595</td>\n",
       "      <td>-46.557662</td>\n",
       "    </tr>\n",
       "    <tr>\n",
       "      <th>4</th>\n",
       "      <td>8.341649</td>\n",
       "      <td>-5.515152</td>\n",
       "      <td>0</td>\n",
       "      <td>69.583104</td>\n",
       "      <td>30.416896</td>\n",
       "      <td>-46.005457</td>\n",
       "    </tr>\n",
       "  </tbody>\n",
       "</table>\n",
       "</div>"
      ],
      "text/plain": [
       "         X1        X2  Y   x1square   x2square       x1x2\n",
       "0  8.000000 -6.000000  0  64.000000  36.000000 -48.000000\n",
       "1  8.089490 -5.878788  0  65.439853  34.560147 -47.556397\n",
       "2  8.176205 -5.757576  0  66.850321  33.149679 -47.075117\n",
       "3  8.260230 -5.636364  0  68.231405  31.768595 -46.557662\n",
       "4  8.341649 -5.515152  0  69.583104  30.416896 -46.005457"
      ]
     },
     "execution_count": 49,
     "metadata": {},
     "output_type": "execute_result"
    }
   ],
   "source": [
    "df1[\"x1square\"] = df1[\"X1\"]**2\n",
    "df1[\"x2square\"] = df1[\"X2\"]**2\n",
    "df1[\"x1x2\"] = df1[\"X1\"]*df1[\"X2\"]\n",
    "df1.head()"
   ]
  },
  {
   "cell_type": "code",
   "execution_count": 69,
   "id": "3cc707e7-415d-42ef-a0d1-c929b17eb7f8",
   "metadata": {},
   "outputs": [],
   "source": [
    "df1=df1.dropna()"
   ]
  },
  {
   "cell_type": "code",
   "execution_count": 71,
   "id": "67e19b65-1307-45b6-aca7-6aaf2695cf30",
   "metadata": {},
   "outputs": [],
   "source": [
    "X = df1[[\"x1square\", \"x2square\", \"x1x2\"]]\n",
    "y = df1[\"Y\"]"
   ]
  },
  {
   "cell_type": "code",
   "execution_count": 73,
   "id": "5ec10f25-f792-40af-9e59-80d16885dc8f",
   "metadata": {},
   "outputs": [
    {
     "data": {
      "text/plain": [
       "0      0\n",
       "1      0\n",
       "2      0\n",
       "3      0\n",
       "4      0\n",
       "      ..\n",
       "378    1\n",
       "379    1\n",
       "380    1\n",
       "381    1\n",
       "382    1\n",
       "Name: Y, Length: 332, dtype: int64"
      ]
     },
     "execution_count": 73,
     "metadata": {},
     "output_type": "execute_result"
    }
   ],
   "source": [
    "y"
   ]
  },
  {
   "cell_type": "code",
   "execution_count": 75,
   "id": "55d48b76-71fa-4caa-93de-ab52c97e8368",
   "metadata": {},
   "outputs": [],
   "source": [
    "from sklearn.model_selection import train_test_split\n",
    "X_train, X_test, y_train, y_test =  train_test_split(X, y, test_size=0.30, random_state=1)"
   ]
  },
  {
   "cell_type": "code",
   "execution_count": 77,
   "id": "681f4d99-42db-4687-a85b-55c717711926",
   "metadata": {},
   "outputs": [
    {
     "data": {
      "application/vnd.plotly.v1+json": {
       "config": {
        "plotlyServerURL": "https://plot.ly"
       },
       "data": [
        {
         "hovertemplate": "x1square=%{x}<br>x2square=%{y}<br>x1x2=%{z}<br>Y=%{marker.color}<extra></extra>",
         "legendgroup": "",
         "marker": {
          "color": [
           0,
           0,
           0,
           0,
           0,
           0,
           0,
           0,
           0,
           0,
           0,
           0,
           0,
           0,
           0,
           0,
           0,
           0,
           0,
           0,
           0,
           0,
           0,
           0,
           0,
           0,
           0,
           0,
           0,
           0,
           0,
           0,
           0,
           0,
           0,
           0,
           0,
           0,
           0,
           0,
           0,
           0,
           0,
           0,
           0,
           0,
           0,
           0,
           0,
           0,
           0,
           0,
           0,
           0,
           0,
           0,
           0,
           0,
           0,
           0,
           0,
           0,
           0,
           0,
           0,
           0,
           0,
           0,
           0,
           0,
           0,
           0,
           0,
           0,
           0,
           0,
           0,
           0,
           0,
           0,
           0,
           0,
           0,
           0,
           0,
           0,
           0,
           0,
           0,
           0,
           0,
           0,
           0,
           0,
           0,
           0,
           0,
           0,
           0,
           0,
           0,
           0,
           0,
           0,
           0,
           0,
           0,
           0,
           0,
           0,
           0,
           0,
           0,
           0,
           0,
           0,
           0,
           0,
           0,
           0,
           0,
           0,
           0,
           0,
           0,
           0,
           0,
           0,
           0,
           0,
           0,
           0,
           0,
           0,
           0,
           0,
           0,
           0,
           0,
           0,
           0,
           0,
           0,
           0,
           0,
           0,
           0,
           0,
           0,
           0,
           0,
           0,
           0,
           0,
           0,
           0,
           0,
           0,
           0,
           0,
           0,
           0,
           0,
           0,
           0,
           0,
           0,
           0,
           0,
           0,
           0,
           0,
           0,
           0,
           0,
           0,
           0,
           0,
           0,
           0,
           0,
           0,
           0,
           0,
           0,
           0,
           0,
           0,
           0,
           0,
           0,
           0,
           0,
           0,
           0,
           0,
           0,
           0,
           0,
           0,
           1,
           1,
           1,
           1,
           1,
           1,
           1,
           1,
           1,
           1,
           1,
           1,
           1,
           1,
           1,
           1,
           1,
           1,
           1,
           1,
           1,
           1,
           1,
           1,
           1,
           1,
           1,
           1,
           1,
           1,
           1,
           1,
           1,
           1,
           1,
           1,
           1,
           1,
           1,
           1,
           1,
           1,
           1,
           1,
           1,
           1,
           1,
           1,
           1,
           1,
           1,
           1,
           1,
           1,
           1,
           1,
           1,
           1,
           1,
           1,
           1,
           1,
           1,
           1,
           1,
           1,
           1,
           1,
           1,
           1,
           1,
           1,
           1,
           1,
           1,
           1,
           1,
           1,
           1,
           1,
           1,
           1,
           1,
           1,
           1,
           1,
           1,
           1,
           1,
           1,
           1,
           1,
           1,
           1,
           1,
           1,
           1,
           1,
           1,
           1,
           1,
           1,
           1,
           1,
           1,
           1,
           1,
           1,
           1,
           1,
           1,
           1,
           1,
           1,
           1,
           1,
           1,
           1,
           1,
           1,
           1,
           1,
           1,
           1,
           1,
           1,
           1,
           1,
           1,
           1,
           1,
           1
          ],
          "coloraxis": "coloraxis",
          "symbol": "circle"
         },
         "mode": "markers",
         "name": "",
         "scene": "scene",
         "showlegend": false,
         "type": "scatter3d",
         "x": [
          64,
          65.4398530762167,
          66.85032139577595,
          68.23140495867769,
          69.58310376492196,
          70.90541781450872,
          72.19834710743804,
          73.46189164370982,
          74.69605142332415,
          75.90082644628097,
          77.07621671258033,
          78.22222222222224,
          79.3388429752066,
          80.42607897153353,
          81.48393021120295,
          82.5123966942149,
          83.51147842056932,
          84.48117539026632,
          85.42148760330578,
          86.33241505968779,
          87.21395775941232,
          88.06611570247932,
          88.8888888888889,
          89.68227731864097,
          90.44628099173553,
          91.18089990817262,
          91.88613406795224,
          92.5619834710744,
          93.20844811753902,
          93.8255280073462,
          94.41322314049587,
          94.97153351698807,
          95.50045913682277,
          95.99999999999999,
          96.47015610651975,
          96.91092745638198,
          97.3223140495868,
          97.70431588613408,
          98.05693296602387,
          98.38016528925618,
          98.67401285583102,
          98.93847566574838,
          99.17355371900828,
          99.37924701561064,
          99.55555555555554,
          99.70247933884299,
          99.8200183654729,
          99.90817263544538,
          99.96694214876034,
          99.9963269054178,
          99.9963269054178,
          99.96694214876034,
          99.90817263544538,
          99.8200183654729,
          99.70247933884299,
          99.55555555555554,
          99.37924701561064,
          99.17355371900828,
          98.93847566574838,
          98.67401285583102,
          98.38016528925618,
          98.05693296602387,
          97.70431588613408,
          97.3223140495868,
          96.91092745638198,
          96.47015610651975,
          95.99999999999999,
          95.50045913682277,
          94.97153351698807,
          94.41322314049587,
          93.8255280073462,
          93.20844811753902,
          92.5619834710744,
          91.88613406795224,
          91.18089990817262,
          90.44628099173553,
          89.68227731864097,
          88.8888888888889,
          88.06611570247932,
          87.21395775941228,
          86.33241505968779,
          85.42148760330578,
          84.48117539026632,
          83.51147842056932,
          82.5123966942149,
          81.48393021120295,
          80.42607897153353,
          79.3388429752066,
          78.22222222222221,
          77.07621671258033,
          75.90082644628097,
          74.69605142332415,
          73.46189164370982,
          72.198347107438,
          70.90541781450872,
          69.58310376492196,
          68.23140495867769,
          66.85032139577595,
          65.4398530762167,
          64,
          64,
          65.4398530762167,
          66.85032139577595,
          68.23140495867769,
          69.58310376492196,
          70.90541781450872,
          72.19834710743804,
          73.46189164370982,
          74.69605142332415,
          75.90082644628097,
          77.07621671258033,
          78.22222222222224,
          79.3388429752066,
          80.42607897153353,
          81.48393021120295,
          82.5123966942149,
          83.51147842056932,
          84.48117539026632,
          85.42148760330578,
          86.33241505968779,
          87.21395775941232,
          88.06611570247932,
          88.8888888888889,
          89.68227731864097,
          90.44628099173553,
          91.18089990817262,
          91.88613406795224,
          92.5619834710744,
          93.20844811753902,
          93.8255280073462,
          94.41322314049587,
          94.97153351698807,
          95.50045913682277,
          95.99999999999999,
          96.47015610651975,
          96.91092745638198,
          97.3223140495868,
          97.70431588613408,
          98.05693296602387,
          98.38016528925618,
          98.67401285583102,
          98.93847566574838,
          99.17355371900828,
          99.37924701561064,
          99.55555555555554,
          99.70247933884299,
          99.8200183654729,
          99.90817263544538,
          99.96694214876034,
          99.9963269054178,
          99.9963269054178,
          99.96694214876034,
          99.90817263544538,
          99.8200183654729,
          99.70247933884299,
          99.55555555555554,
          99.37924701561064,
          99.17355371900828,
          98.93847566574838,
          98.67401285583102,
          98.38016528925618,
          98.05693296602387,
          97.70431588613408,
          97.3223140495868,
          96.91092745638198,
          96.47015610651975,
          95.99999999999999,
          95.50045913682277,
          94.97153351698807,
          94.41322314049587,
          93.8255280073462,
          93.20844811753902,
          92.5619834710744,
          91.88613406795224,
          91.18089990817262,
          90.44628099173553,
          89.68227731864097,
          88.8888888888889,
          88.06611570247932,
          87.21395775941228,
          86.33241505968779,
          85.42148760330578,
          84.48117539026632,
          83.51147842056932,
          82.5123966942149,
          81.48393021120295,
          80.42607897153353,
          79.3388429752066,
          78.22222222222221,
          77.07621671258033,
          75.90082644628097,
          74.69605142332415,
          73.46189164370982,
          72.198347107438,
          70.90541781450872,
          69.58310376492196,
          68.23140495867769,
          66.85032139577595,
          65.4398530762167,
          64,
          0.4811753902662996,
          1.421487603305783,
          2.3324150596877886,
          3.2139577594123057,
          4.066115702479338,
          4.88888888888889,
          5.682277318640956,
          6.446280991735539,
          7.180899908172636,
          7.8861340679522485,
          8.561983471074381,
          9.208448117539028,
          9.82552800734619,
          10.413223140495868,
          10.971533516988064,
          11.500459136822773,
          11.999999999999998,
          12.470156106519743,
          12.910927456382,
          13.322314049586776,
          13.704315886134069,
          14.056932966023876,
          14.3801652892562,
          14.674012855831037,
          14.938475665748392,
          15.173553719008265,
          15.37924701561065,
          15.555555555555555,
          15.702479338842974,
          15.820018365472913,
          15.908172635445363,
          15.966942148760328,
          15.996326905417817,
          15.996326905417817,
          15.966942148760328,
          15.908172635445363,
          15.82001836547291,
          15.702479338842974,
          15.555555555555555,
          15.37924701561065,
          15.173553719008265,
          14.938475665748392,
          14.674012855831037,
          14.380165289256196,
          14.056932966023874,
          13.704315886134069,
          13.322314049586776,
          12.910927456382,
          12.470156106519743,
          11.999999999999998,
          11.500459136822773,
          10.971533516988064,
          10.413223140495868,
          9.825528007346193,
          9.20844811753903,
          8.561983471074383,
          7.886134067952243,
          7.180899908172631,
          6.446280991735532,
          5.682277318640952,
          4.888888888888886,
          4.066115702479334,
          3.2139577594123026,
          2.332415059687784,
          1.421487603305783,
          0.4811753902662996,
          0.4811753902662996,
          1.421487603305783,
          2.3324150596877886,
          3.2139577594123057,
          4.066115702479338,
          4.88888888888889,
          5.682277318640956,
          6.446280991735539,
          7.180899908172636,
          7.8861340679522485,
          8.561983471074381,
          9.208448117539028,
          9.82552800734619,
          10.413223140495868,
          10.971533516988064,
          11.500459136822773,
          11.999999999999998,
          12.470156106519743,
          12.910927456382,
          13.322314049586776,
          13.704315886134069,
          14.056932966023876,
          14.3801652892562,
          14.674012855831037,
          14.938475665748392,
          15.173553719008265,
          15.37924701561065,
          15.555555555555555,
          15.702479338842974,
          15.820018365472913,
          15.908172635445363,
          15.966942148760328,
          15.996326905417817,
          15.996326905417817,
          15.966942148760328,
          15.908172635445363,
          15.82001836547291,
          15.702479338842974,
          15.555555555555555,
          15.37924701561065,
          15.173553719008265,
          14.938475665748392,
          14.674012855831037,
          14.380165289256196,
          14.056932966023874,
          13.704315886134069,
          13.322314049586776,
          12.910927456382,
          12.470156106519743,
          11.999999999999998,
          11.500459136822773,
          10.971533516988064,
          10.413223140495868,
          9.825528007346193,
          9.20844811753903,
          8.561983471074383,
          7.886134067952243,
          7.180899908172631,
          6.446280991735532,
          5.682277318640952,
          4.888888888888886,
          4.066115702479334,
          3.2139577594123026,
          2.332415059687784,
          1.421487603305783,
          0.4811753902662996
         ],
         "y": [
          36,
          34.560146923783286,
          33.149678604224064,
          31.768595041322317,
          30.41689623507806,
          29.094582185491273,
          27.801652892561982,
          26.538108356290174,
          25.30394857667585,
          24.09917355371901,
          22.923783287419653,
          21.77777777777777,
          20.661157024793383,
          19.57392102846648,
          18.516069788797058,
          17.48760330578512,
          16.48852157943067,
          15.5188246097337,
          14.578512396694217,
          13.667584940312212,
          12.786042240587694,
          11.933884297520661,
          11.111111111111109,
          10.317722681359044,
          9.553719008264462,
          8.819100091827364,
          8.113865932047752,
          7.438016528925619,
          6.791551882460973,
          6.174471992653811,
          5.5867768595041305,
          5.028466483011937,
          4.499540863177226,
          4,
          3.5298438934802574,
          3.089072543617999,
          2.677685950413224,
          2.2956841138659305,
          1.943067033976124,
          1.6198347107438011,
          1.3259871441689621,
          1.061524334251607,
          0.8264462809917357,
          0.6207529843893483,
          0.44444444444444364,
          0.29752066115702425,
          0.17998163452708876,
          0.09182736455463712,
          0.03305785123966936,
          0.0036730945821854847,
          0.0036730945821854847,
          0.03305785123966936,
          0.09182736455463712,
          0.1799816345270895,
          0.29752066115702525,
          0.44444444444444486,
          0.6207529843893483,
          0.8264462809917357,
          1.061524334251607,
          1.3259871441689621,
          1.6198347107438034,
          1.9430670339761265,
          2.295684113865933,
          2.677685950413224,
          3.089072543617999,
          3.5298438934802574,
          4,
          4.499540863177226,
          5.028466483011937,
          5.5867768595041305,
          6.1744719926538085,
          6.79155188246097,
          7.438016528925616,
          8.113865932047757,
          8.81910009182737,
          9.553719008264467,
          10.317722681359049,
          11.111111111111114,
          11.933884297520665,
          12.786042240587697,
          13.667584940312215,
          14.578512396694217,
          15.5188246097337,
          16.48852157943067,
          17.48760330578512,
          18.516069788797058,
          19.57392102846648,
          20.661157024793383,
          21.77777777777779,
          22.92378328741966,
          24.09917355371902,
          25.303948576675857,
          26.53810835629018,
          27.80165289256199,
          29.094582185491284,
          30.41689623507806,
          31.768595041322317,
          33.149678604224064,
          34.560146923783286,
          36,
          36,
          34.560146923783286,
          33.149678604224064,
          31.768595041322317,
          30.41689623507806,
          29.094582185491273,
          27.801652892561982,
          26.538108356290174,
          25.30394857667585,
          24.09917355371901,
          22.923783287419653,
          21.77777777777777,
          20.661157024793383,
          19.57392102846648,
          18.516069788797058,
          17.48760330578512,
          16.48852157943067,
          15.5188246097337,
          14.578512396694217,
          13.667584940312212,
          12.786042240587694,
          11.933884297520661,
          11.111111111111109,
          10.317722681359044,
          9.553719008264462,
          8.819100091827364,
          8.113865932047752,
          7.438016528925619,
          6.791551882460973,
          6.174471992653811,
          5.5867768595041305,
          5.028466483011937,
          4.499540863177226,
          4,
          3.5298438934802574,
          3.089072543617999,
          2.677685950413224,
          2.2956841138659305,
          1.943067033976124,
          1.6198347107438011,
          1.3259871441689621,
          1.061524334251607,
          0.8264462809917357,
          0.6207529843893483,
          0.44444444444444364,
          0.29752066115702425,
          0.17998163452708876,
          0.09182736455463712,
          0.03305785123966936,
          0.0036730945821854847,
          0.0036730945821854847,
          0.03305785123966936,
          0.09182736455463712,
          0.1799816345270895,
          0.29752066115702525,
          0.44444444444444486,
          0.6207529843893483,
          0.8264462809917357,
          1.061524334251607,
          1.3259871441689621,
          1.6198347107438034,
          1.9430670339761265,
          2.295684113865933,
          2.677685950413224,
          3.089072543617999,
          3.5298438934802574,
          4,
          4.499540863177226,
          5.028466483011937,
          5.5867768595041305,
          6.1744719926538085,
          6.79155188246097,
          7.438016528925616,
          8.113865932047757,
          8.81910009182737,
          9.553719008264467,
          10.317722681359049,
          11.111111111111114,
          11.933884297520665,
          12.786042240587697,
          13.667584940312215,
          14.578512396694217,
          15.5188246097337,
          16.48852157943067,
          17.48760330578512,
          18.516069788797058,
          19.57392102846648,
          20.661157024793383,
          21.77777777777779,
          22.92378328741966,
          24.09917355371902,
          25.303948576675857,
          26.53810835629018,
          27.80165289256199,
          29.094582185491284,
          30.41689623507806,
          31.768595041322317,
          33.149678604224064,
          34.560146923783286,
          36,
          15.5188246097337,
          14.578512396694217,
          13.667584940312212,
          12.786042240587694,
          11.933884297520661,
          11.111111111111109,
          10.317722681359044,
          9.553719008264462,
          8.819100091827364,
          8.113865932047752,
          7.438016528925619,
          6.791551882460973,
          6.174471992653811,
          5.5867768595041305,
          5.028466483011937,
          4.499540863177226,
          4,
          3.5298438934802574,
          3.089072543617999,
          2.677685950413224,
          2.2956841138659305,
          1.943067033976124,
          1.6198347107438011,
          1.3259871441689621,
          1.061524334251607,
          0.8264462809917357,
          0.6207529843893483,
          0.44444444444444364,
          0.29752066115702425,
          0.17998163452708876,
          0.09182736455463712,
          0.03305785123966936,
          0.0036730945821854847,
          0.0036730945821854847,
          0.03305785123966936,
          0.09182736455463712,
          0.1799816345270895,
          0.29752066115702525,
          0.44444444444444486,
          0.6207529843893483,
          0.8264462809917357,
          1.061524334251607,
          1.3259871441689621,
          1.6198347107438034,
          1.9430670339761265,
          2.295684113865933,
          2.677685950413224,
          3.089072543617999,
          3.5298438934802574,
          4,
          4.499540863177226,
          5.028466483011937,
          5.5867768595041305,
          6.1744719926538085,
          6.79155188246097,
          7.438016528925616,
          8.113865932047757,
          8.81910009182737,
          9.553719008264467,
          10.317722681359049,
          11.111111111111114,
          11.933884297520665,
          12.786042240587697,
          13.667584940312215,
          14.578512396694217,
          15.5188246097337,
          15.5188246097337,
          14.578512396694217,
          13.667584940312212,
          12.786042240587694,
          11.933884297520661,
          11.111111111111109,
          10.317722681359044,
          9.553719008264462,
          8.819100091827364,
          8.113865932047752,
          7.438016528925619,
          6.791551882460973,
          6.174471992653811,
          5.5867768595041305,
          5.028466483011937,
          4.499540863177226,
          4,
          3.5298438934802574,
          3.089072543617999,
          2.677685950413224,
          2.2956841138659305,
          1.943067033976124,
          1.6198347107438011,
          1.3259871441689621,
          1.061524334251607,
          0.8264462809917357,
          0.6207529843893483,
          0.44444444444444364,
          0.29752066115702425,
          0.17998163452708876,
          0.09182736455463712,
          0.03305785123966936,
          0.0036730945821854847,
          0.0036730945821854847,
          0.03305785123966936,
          0.09182736455463712,
          0.1799816345270895,
          0.29752066115702525,
          0.44444444444444486,
          0.6207529843893483,
          0.8264462809917357,
          1.061524334251607,
          1.3259871441689621,
          1.6198347107438034,
          1.9430670339761265,
          2.295684113865933,
          2.677685950413224,
          3.089072543617999,
          3.5298438934802574,
          4,
          4.499540863177226,
          5.028466483011937,
          5.5867768595041305,
          6.1744719926538085,
          6.79155188246097,
          7.438016528925616,
          8.113865932047757,
          8.81910009182737,
          9.553719008264467,
          10.317722681359049,
          11.111111111111114,
          11.933884297520665,
          12.786042240587697,
          13.667584940312215,
          14.578512396694217,
          15.5188246097337
         ],
         "z": [
          -48,
          -47.5563974348861,
          -47.07511730053422,
          -46.55766181019729,
          -46.0054567082243,
          -45.41985805791142,
          -44.80215827053088,
          -44.1535914790498,
          -43.475338343669385,
          -42.7685303628688,
          -42.03425375254549,
          -41.273552946644976,
          -40.487433765011204,
          -39.67686628777537,
          -38.84278747021257,
          -37.98610352744811,
          -37.10769211454299,
          -36.2084043242131,
          -35.28906652164172,
          -34.35048203345292,
          -33.39343270585815,
          -32.41868034521849,
          -31.426968052735443,
          -30.419021463657796,
          -29.395549900241235,
          -28.35724744669459,
          -27.30479395347143,
          -26.238855977500073,
          -25.16008766427371,
          -24.06913157713246,
          -22.966619478550218,
          -21.853173067781697,
          -20.72940467882088,
          -19.595917942265423,
          -18.45330841436532,
          -17.30216417625452,
          -16.143066406116343,
          -14.97658992681367,
          -13.803303731320542,
          -12.623771488119136,
          -11.43855202857402,
          -10.248199818160865,
          -9.053265413308532,
          -7.854295905509707,
          -6.651835354264779,
          -5.446425210345509,
          -4.2386047307978405,
          -3.0289113870469473,
          -1.817881267420497,
          -0.6060494753687513,
          0.6060494753687513,
          1.817881267420497,
          3.0289113870469473,
          4.238604730797849,
          5.4464252103455175,
          6.6518353542647874,
          7.854295905509707,
          9.053265413308532,
          10.248199818160865,
          11.43855202857402,
          12.623771488119145,
          13.80330373132055,
          14.976589926813679,
          16.143066406116343,
          17.30216417625452,
          18.45330841436532,
          19.595917942265423,
          20.72940467882088,
          21.853173067781697,
          22.966619478550218,
          24.069131577132453,
          25.160087664273707,
          26.23885597750007,
          27.30479395347144,
          28.3572474466946,
          29.395549900241246,
          30.419021463657806,
          31.426968052735454,
          32.4186803452185,
          33.393432705858146,
          34.35048203345293,
          35.28906652164172,
          36.2084043242131,
          37.10769211454299,
          37.98610352744811,
          38.84278747021257,
          39.67686628777537,
          40.487433765011204,
          41.27355294664498,
          42.034253752545496,
          42.76853036286881,
          43.47533834366939,
          44.15359147904981,
          44.802158270530875,
          45.419858057911426,
          46.0054567082243,
          46.55766181019729,
          47.07511730053422,
          47.5563974348861,
          48,
          -48,
          -47.5563974348861,
          -47.07511730053422,
          -46.55766181019729,
          -46.0054567082243,
          -45.41985805791142,
          -44.80215827053088,
          -44.1535914790498,
          -43.475338343669385,
          -42.7685303628688,
          -42.03425375254549,
          -41.273552946644976,
          -40.487433765011204,
          -39.67686628777537,
          -38.84278747021257,
          -37.98610352744811,
          -37.10769211454299,
          -36.2084043242131,
          -35.28906652164172,
          -34.35048203345292,
          -33.39343270585815,
          -32.41868034521849,
          -31.426968052735443,
          -30.419021463657796,
          -29.395549900241235,
          -28.35724744669459,
          -27.30479395347143,
          -26.238855977500073,
          -25.16008766427371,
          -24.06913157713246,
          -22.966619478550218,
          -21.853173067781697,
          -20.72940467882088,
          -19.595917942265423,
          -18.45330841436532,
          -17.30216417625452,
          -16.143066406116343,
          -14.97658992681367,
          -13.803303731320542,
          -12.623771488119136,
          -11.43855202857402,
          -10.248199818160865,
          -9.053265413308532,
          -7.854295905509707,
          -6.651835354264779,
          -5.446425210345509,
          -4.2386047307978405,
          -3.0289113870469473,
          -1.817881267420497,
          -0.6060494753687513,
          0.6060494753687513,
          1.817881267420497,
          3.0289113870469473,
          4.238604730797849,
          5.4464252103455175,
          6.6518353542647874,
          7.854295905509707,
          9.053265413308532,
          10.248199818160865,
          11.43855202857402,
          12.623771488119145,
          13.80330373132055,
          14.976589926813679,
          16.143066406116343,
          17.30216417625452,
          18.45330841436532,
          19.595917942265423,
          20.72940467882088,
          21.853173067781697,
          22.966619478550218,
          24.069131577132453,
          25.160087664273707,
          26.23885597750007,
          27.30479395347144,
          28.3572474466946,
          29.395549900241246,
          30.419021463657806,
          31.426968052735454,
          32.4186803452185,
          33.393432705858146,
          34.35048203345293,
          35.28906652164172,
          36.2084043242131,
          37.10769211454299,
          37.98610352744811,
          38.84278747021257,
          39.67686628777537,
          40.487433765011204,
          41.27355294664498,
          42.034253752545496,
          42.76853036286881,
          43.47533834366939,
          44.15359147904981,
          44.802158270530875,
          45.419858057911426,
          46.0054567082243,
          46.55766181019729,
          47.07511730053422,
          47.5563974348861,
          48,
          -2.7326317878673057,
          -4.552271372242708,
          -5.646103164514994,
          -6.410444576728694,
          -6.965956813943104,
          -7.370277311900889,
          -7.65690287076399,
          -7.847672090713124,
          -7.957956712597047,
          -7.999189618300024,
          -7.980236498891445,
          -7.9082016379968705,
          -7.7889310880501865,
          -7.62734253027719,
          -7.427650271614607,
          -7.193523881341742,
          -6.928203230275509,
          -6.6345839646012665,
          -6.31528237833855,
          -5.972685590048351,
          -5.608991020780697,
          -5.226237943788362,
          -4.82633306784461,
          -4.411071570514588,
          -3.982154622288968,
          -3.541204179442736,
          -3.089775636288384,
          -2.629368792488716,
          -2.161437492664795,
          -1.6873982232023292,
          -1.2086378977978243,
          -0.7265210239945749,
          -0.24239641435293155,
          0.24239641435293155,
          0.7265210239945749,
          1.2086378977978243,
          1.6873982232023326,
          2.1614374926647986,
          2.6293687924887195,
          3.089775636288384,
          3.541204179442736,
          3.982154622288968,
          4.411071570514588,
          4.826333067844613,
          5.226237943788365,
          5.6089910207807,
          5.972685590048351,
          6.31528237833855,
          6.6345839646012665,
          6.928203230275509,
          7.193523881341742,
          7.427650271614607,
          7.62734253027719,
          7.788931088050186,
          7.9082016379968705,
          7.980236498891445,
          7.999189618300024,
          7.957956712597047,
          7.8476720907131226,
          7.6569028707639895,
          7.370277311900888,
          6.9659568139431025,
          6.4104445767286915,
          5.646103164514989,
          4.552271372242708,
          2.7326317878673057,
          -2.7326317878673057,
          -4.552271372242708,
          -5.646103164514994,
          -6.410444576728694,
          -6.965956813943104,
          -7.370277311900889,
          -7.65690287076399,
          -7.847672090713124,
          -7.957956712597047,
          -7.999189618300024,
          -7.980236498891445,
          -7.9082016379968705,
          -7.7889310880501865,
          -7.62734253027719,
          -7.427650271614607,
          -7.193523881341742,
          -6.928203230275509,
          -6.6345839646012665,
          -6.31528237833855,
          -5.972685590048351,
          -5.608991020780697,
          -5.226237943788362,
          -4.82633306784461,
          -4.411071570514588,
          -3.982154622288968,
          -3.541204179442736,
          -3.089775636288384,
          -2.629368792488716,
          -2.161437492664795,
          -1.6873982232023292,
          -1.2086378977978243,
          -0.7265210239945749,
          -0.24239641435293155,
          0.24239641435293155,
          0.7265210239945749,
          1.2086378977978243,
          1.6873982232023326,
          2.1614374926647986,
          2.6293687924887195,
          3.089775636288384,
          3.541204179442736,
          3.982154622288968,
          4.411071570514588,
          4.826333067844613,
          5.226237943788365,
          5.6089910207807,
          5.972685590048351,
          6.31528237833855,
          6.6345839646012665,
          6.928203230275509,
          7.193523881341742,
          7.427650271614607,
          7.62734253027719,
          7.788931088050186,
          7.9082016379968705,
          7.980236498891445,
          7.999189618300024,
          7.957956712597047,
          7.8476720907131226,
          7.6569028707639895,
          7.370277311900888,
          6.9659568139431025,
          6.4104445767286915,
          5.646103164514989,
          4.552271372242708,
          2.7326317878673057
         ]
        }
       ],
       "layout": {
        "autosize": true,
        "coloraxis": {
         "colorbar": {
          "title": {
           "text": "Y"
          }
         },
         "colorscale": [
          [
           0,
           "#0d0887"
          ],
          [
           0.1111111111111111,
           "#46039f"
          ],
          [
           0.2222222222222222,
           "#7201a8"
          ],
          [
           0.3333333333333333,
           "#9c179e"
          ],
          [
           0.4444444444444444,
           "#bd3786"
          ],
          [
           0.5555555555555556,
           "#d8576b"
          ],
          [
           0.6666666666666666,
           "#ed7953"
          ],
          [
           0.7777777777777778,
           "#fb9f3a"
          ],
          [
           0.8888888888888888,
           "#fdca26"
          ],
          [
           1,
           "#f0f921"
          ]
         ]
        },
        "legend": {
         "tracegroupgap": 0
        },
        "margin": {
         "t": 60
        },
        "scene": {
         "aspectmode": "auto",
         "aspectratio": {
          "x": 1.4204185399572689,
          "y": 0.5137896021696099,
          "z": 1.370245412480094
         },
         "camera": {
          "center": {
           "x": 0,
           "y": 0,
           "z": 0
          },
          "eye": {
           "x": 1.0017003451078261,
           "y": 1.001700345107826,
           "z": 1.0017003451078261
          },
          "projection": {
           "type": "perspective"
          },
          "up": {
           "x": 0,
           "y": 0,
           "z": 1
          }
         },
         "domain": {
          "x": [
           0,
           1
          ],
          "y": [
           0,
           1
          ]
         },
         "xaxis": {
          "title": {
           "text": "x1square"
          },
          "type": "linear"
         },
         "yaxis": {
          "title": {
           "text": "x2square"
          },
          "type": "linear"
         },
         "zaxis": {
          "title": {
           "text": "x1x2"
          },
          "type": "linear"
         }
        },
        "template": {
         "data": {
          "bar": [
           {
            "error_x": {
             "color": "#2a3f5f"
            },
            "error_y": {
             "color": "#2a3f5f"
            },
            "marker": {
             "line": {
              "color": "#E5ECF6",
              "width": 0.5
             },
             "pattern": {
              "fillmode": "overlay",
              "size": 10,
              "solidity": 0.2
             }
            },
            "type": "bar"
           }
          ],
          "barpolar": [
           {
            "marker": {
             "line": {
              "color": "#E5ECF6",
              "width": 0.5
             },
             "pattern": {
              "fillmode": "overlay",
              "size": 10,
              "solidity": 0.2
             }
            },
            "type": "barpolar"
           }
          ],
          "carpet": [
           {
            "aaxis": {
             "endlinecolor": "#2a3f5f",
             "gridcolor": "white",
             "linecolor": "white",
             "minorgridcolor": "white",
             "startlinecolor": "#2a3f5f"
            },
            "baxis": {
             "endlinecolor": "#2a3f5f",
             "gridcolor": "white",
             "linecolor": "white",
             "minorgridcolor": "white",
             "startlinecolor": "#2a3f5f"
            },
            "type": "carpet"
           }
          ],
          "choropleth": [
           {
            "colorbar": {
             "outlinewidth": 0,
             "ticks": ""
            },
            "type": "choropleth"
           }
          ],
          "contour": [
           {
            "colorbar": {
             "outlinewidth": 0,
             "ticks": ""
            },
            "colorscale": [
             [
              0,
              "#0d0887"
             ],
             [
              0.1111111111111111,
              "#46039f"
             ],
             [
              0.2222222222222222,
              "#7201a8"
             ],
             [
              0.3333333333333333,
              "#9c179e"
             ],
             [
              0.4444444444444444,
              "#bd3786"
             ],
             [
              0.5555555555555556,
              "#d8576b"
             ],
             [
              0.6666666666666666,
              "#ed7953"
             ],
             [
              0.7777777777777778,
              "#fb9f3a"
             ],
             [
              0.8888888888888888,
              "#fdca26"
             ],
             [
              1,
              "#f0f921"
             ]
            ],
            "type": "contour"
           }
          ],
          "contourcarpet": [
           {
            "colorbar": {
             "outlinewidth": 0,
             "ticks": ""
            },
            "type": "contourcarpet"
           }
          ],
          "heatmap": [
           {
            "colorbar": {
             "outlinewidth": 0,
             "ticks": ""
            },
            "colorscale": [
             [
              0,
              "#0d0887"
             ],
             [
              0.1111111111111111,
              "#46039f"
             ],
             [
              0.2222222222222222,
              "#7201a8"
             ],
             [
              0.3333333333333333,
              "#9c179e"
             ],
             [
              0.4444444444444444,
              "#bd3786"
             ],
             [
              0.5555555555555556,
              "#d8576b"
             ],
             [
              0.6666666666666666,
              "#ed7953"
             ],
             [
              0.7777777777777778,
              "#fb9f3a"
             ],
             [
              0.8888888888888888,
              "#fdca26"
             ],
             [
              1,
              "#f0f921"
             ]
            ],
            "type": "heatmap"
           }
          ],
          "heatmapgl": [
           {
            "colorbar": {
             "outlinewidth": 0,
             "ticks": ""
            },
            "colorscale": [
             [
              0,
              "#0d0887"
             ],
             [
              0.1111111111111111,
              "#46039f"
             ],
             [
              0.2222222222222222,
              "#7201a8"
             ],
             [
              0.3333333333333333,
              "#9c179e"
             ],
             [
              0.4444444444444444,
              "#bd3786"
             ],
             [
              0.5555555555555556,
              "#d8576b"
             ],
             [
              0.6666666666666666,
              "#ed7953"
             ],
             [
              0.7777777777777778,
              "#fb9f3a"
             ],
             [
              0.8888888888888888,
              "#fdca26"
             ],
             [
              1,
              "#f0f921"
             ]
            ],
            "type": "heatmapgl"
           }
          ],
          "histogram": [
           {
            "marker": {
             "pattern": {
              "fillmode": "overlay",
              "size": 10,
              "solidity": 0.2
             }
            },
            "type": "histogram"
           }
          ],
          "histogram2d": [
           {
            "colorbar": {
             "outlinewidth": 0,
             "ticks": ""
            },
            "colorscale": [
             [
              0,
              "#0d0887"
             ],
             [
              0.1111111111111111,
              "#46039f"
             ],
             [
              0.2222222222222222,
              "#7201a8"
             ],
             [
              0.3333333333333333,
              "#9c179e"
             ],
             [
              0.4444444444444444,
              "#bd3786"
             ],
             [
              0.5555555555555556,
              "#d8576b"
             ],
             [
              0.6666666666666666,
              "#ed7953"
             ],
             [
              0.7777777777777778,
              "#fb9f3a"
             ],
             [
              0.8888888888888888,
              "#fdca26"
             ],
             [
              1,
              "#f0f921"
             ]
            ],
            "type": "histogram2d"
           }
          ],
          "histogram2dcontour": [
           {
            "colorbar": {
             "outlinewidth": 0,
             "ticks": ""
            },
            "colorscale": [
             [
              0,
              "#0d0887"
             ],
             [
              0.1111111111111111,
              "#46039f"
             ],
             [
              0.2222222222222222,
              "#7201a8"
             ],
             [
              0.3333333333333333,
              "#9c179e"
             ],
             [
              0.4444444444444444,
              "#bd3786"
             ],
             [
              0.5555555555555556,
              "#d8576b"
             ],
             [
              0.6666666666666666,
              "#ed7953"
             ],
             [
              0.7777777777777778,
              "#fb9f3a"
             ],
             [
              0.8888888888888888,
              "#fdca26"
             ],
             [
              1,
              "#f0f921"
             ]
            ],
            "type": "histogram2dcontour"
           }
          ],
          "mesh3d": [
           {
            "colorbar": {
             "outlinewidth": 0,
             "ticks": ""
            },
            "type": "mesh3d"
           }
          ],
          "parcoords": [
           {
            "line": {
             "colorbar": {
              "outlinewidth": 0,
              "ticks": ""
             }
            },
            "type": "parcoords"
           }
          ],
          "pie": [
           {
            "automargin": true,
            "type": "pie"
           }
          ],
          "scatter": [
           {
            "fillpattern": {
             "fillmode": "overlay",
             "size": 10,
             "solidity": 0.2
            },
            "type": "scatter"
           }
          ],
          "scatter3d": [
           {
            "line": {
             "colorbar": {
              "outlinewidth": 0,
              "ticks": ""
             }
            },
            "marker": {
             "colorbar": {
              "outlinewidth": 0,
              "ticks": ""
             }
            },
            "type": "scatter3d"
           }
          ],
          "scattercarpet": [
           {
            "marker": {
             "colorbar": {
              "outlinewidth": 0,
              "ticks": ""
             }
            },
            "type": "scattercarpet"
           }
          ],
          "scattergeo": [
           {
            "marker": {
             "colorbar": {
              "outlinewidth": 0,
              "ticks": ""
             }
            },
            "type": "scattergeo"
           }
          ],
          "scattergl": [
           {
            "marker": {
             "colorbar": {
              "outlinewidth": 0,
              "ticks": ""
             }
            },
            "type": "scattergl"
           }
          ],
          "scattermapbox": [
           {
            "marker": {
             "colorbar": {
              "outlinewidth": 0,
              "ticks": ""
             }
            },
            "type": "scattermapbox"
           }
          ],
          "scatterpolar": [
           {
            "marker": {
             "colorbar": {
              "outlinewidth": 0,
              "ticks": ""
             }
            },
            "type": "scatterpolar"
           }
          ],
          "scatterpolargl": [
           {
            "marker": {
             "colorbar": {
              "outlinewidth": 0,
              "ticks": ""
             }
            },
            "type": "scatterpolargl"
           }
          ],
          "scatterternary": [
           {
            "marker": {
             "colorbar": {
              "outlinewidth": 0,
              "ticks": ""
             }
            },
            "type": "scatterternary"
           }
          ],
          "surface": [
           {
            "colorbar": {
             "outlinewidth": 0,
             "ticks": ""
            },
            "colorscale": [
             [
              0,
              "#0d0887"
             ],
             [
              0.1111111111111111,
              "#46039f"
             ],
             [
              0.2222222222222222,
              "#7201a8"
             ],
             [
              0.3333333333333333,
              "#9c179e"
             ],
             [
              0.4444444444444444,
              "#bd3786"
             ],
             [
              0.5555555555555556,
              "#d8576b"
             ],
             [
              0.6666666666666666,
              "#ed7953"
             ],
             [
              0.7777777777777778,
              "#fb9f3a"
             ],
             [
              0.8888888888888888,
              "#fdca26"
             ],
             [
              1,
              "#f0f921"
             ]
            ],
            "type": "surface"
           }
          ],
          "table": [
           {
            "cells": {
             "fill": {
              "color": "#EBF0F8"
             },
             "line": {
              "color": "white"
             }
            },
            "header": {
             "fill": {
              "color": "#C8D4E3"
             },
             "line": {
              "color": "white"
             }
            },
            "type": "table"
           }
          ]
         },
         "layout": {
          "annotationdefaults": {
           "arrowcolor": "#2a3f5f",
           "arrowhead": 0,
           "arrowwidth": 1
          },
          "autotypenumbers": "strict",
          "coloraxis": {
           "colorbar": {
            "outlinewidth": 0,
            "ticks": ""
           }
          },
          "colorscale": {
           "diverging": [
            [
             0,
             "#8e0152"
            ],
            [
             0.1,
             "#c51b7d"
            ],
            [
             0.2,
             "#de77ae"
            ],
            [
             0.3,
             "#f1b6da"
            ],
            [
             0.4,
             "#fde0ef"
            ],
            [
             0.5,
             "#f7f7f7"
            ],
            [
             0.6,
             "#e6f5d0"
            ],
            [
             0.7,
             "#b8e186"
            ],
            [
             0.8,
             "#7fbc41"
            ],
            [
             0.9,
             "#4d9221"
            ],
            [
             1,
             "#276419"
            ]
           ],
           "sequential": [
            [
             0,
             "#0d0887"
            ],
            [
             0.1111111111111111,
             "#46039f"
            ],
            [
             0.2222222222222222,
             "#7201a8"
            ],
            [
             0.3333333333333333,
             "#9c179e"
            ],
            [
             0.4444444444444444,
             "#bd3786"
            ],
            [
             0.5555555555555556,
             "#d8576b"
            ],
            [
             0.6666666666666666,
             "#ed7953"
            ],
            [
             0.7777777777777778,
             "#fb9f3a"
            ],
            [
             0.8888888888888888,
             "#fdca26"
            ],
            [
             1,
             "#f0f921"
            ]
           ],
           "sequentialminus": [
            [
             0,
             "#0d0887"
            ],
            [
             0.1111111111111111,
             "#46039f"
            ],
            [
             0.2222222222222222,
             "#7201a8"
            ],
            [
             0.3333333333333333,
             "#9c179e"
            ],
            [
             0.4444444444444444,
             "#bd3786"
            ],
            [
             0.5555555555555556,
             "#d8576b"
            ],
            [
             0.6666666666666666,
             "#ed7953"
            ],
            [
             0.7777777777777778,
             "#fb9f3a"
            ],
            [
             0.8888888888888888,
             "#fdca26"
            ],
            [
             1,
             "#f0f921"
            ]
           ]
          },
          "colorway": [
           "#636efa",
           "#EF553B",
           "#00cc96",
           "#ab63fa",
           "#FFA15A",
           "#19d3f3",
           "#FF6692",
           "#B6E880",
           "#FF97FF",
           "#FECB52"
          ],
          "font": {
           "color": "#2a3f5f"
          },
          "geo": {
           "bgcolor": "white",
           "lakecolor": "white",
           "landcolor": "#E5ECF6",
           "showlakes": true,
           "showland": true,
           "subunitcolor": "white"
          },
          "hoverlabel": {
           "align": "left"
          },
          "hovermode": "closest",
          "mapbox": {
           "style": "light"
          },
          "paper_bgcolor": "white",
          "plot_bgcolor": "#E5ECF6",
          "polar": {
           "angularaxis": {
            "gridcolor": "white",
            "linecolor": "white",
            "ticks": ""
           },
           "bgcolor": "#E5ECF6",
           "radialaxis": {
            "gridcolor": "white",
            "linecolor": "white",
            "ticks": ""
           }
          },
          "scene": {
           "xaxis": {
            "backgroundcolor": "#E5ECF6",
            "gridcolor": "white",
            "gridwidth": 2,
            "linecolor": "white",
            "showbackground": true,
            "ticks": "",
            "zerolinecolor": "white"
           },
           "yaxis": {
            "backgroundcolor": "#E5ECF6",
            "gridcolor": "white",
            "gridwidth": 2,
            "linecolor": "white",
            "showbackground": true,
            "ticks": "",
            "zerolinecolor": "white"
           },
           "zaxis": {
            "backgroundcolor": "#E5ECF6",
            "gridcolor": "white",
            "gridwidth": 2,
            "linecolor": "white",
            "showbackground": true,
            "ticks": "",
            "zerolinecolor": "white"
           }
          },
          "shapedefaults": {
           "line": {
            "color": "#2a3f5f"
           }
          },
          "ternary": {
           "aaxis": {
            "gridcolor": "white",
            "linecolor": "white",
            "ticks": ""
           },
           "baxis": {
            "gridcolor": "white",
            "linecolor": "white",
            "ticks": ""
           },
           "bgcolor": "#E5ECF6",
           "caxis": {
            "gridcolor": "white",
            "linecolor": "white",
            "ticks": ""
           }
          },
          "title": {
           "x": 0.05
          },
          "xaxis": {
           "automargin": true,
           "gridcolor": "white",
           "linecolor": "white",
           "ticks": "",
           "title": {
            "standoff": 15
           },
           "zerolinecolor": "white",
           "zerolinewidth": 2
          },
          "yaxis": {
           "automargin": true,
           "gridcolor": "white",
           "linecolor": "white",
           "ticks": "",
           "title": {
            "standoff": 15
           },
           "zerolinecolor": "white",
           "zerolinewidth": 2
          }
         }
        }
       }
      },
      "image/png": "[encoded data removed]",
      "text/html": [
       "<div>                            <div id=\"d9f051cc-b05a-413e-ab79-61005f72efc2\" class=\"plotly-graph-div\" style=\"height:525px; width:100%;\"></div>            <script type=\"text/javascript\">                require([\"plotly\"], function(Plotly) {                    window.PLOTLYENV=window.PLOTLYENV || {};                                    if (document.getElementById(\"d9f051cc-b05a-413e-ab79-61005f72efc2\")) {                    Plotly.newPlot(                        \"d9f051cc-b05a-413e-ab79-61005f72efc2\",                        [{\"hovertemplate\":\"x1square=%{x}\\u003cbr\\u003ex2square=%{y}\\u003cbr\\u003ex1x2=%{z}\\u003cbr\\u003eY=%{marker.color}\\u003cextra\\u003e\\u003c\\u002fextra\\u003e\",\"legendgroup\":\"\",\"marker\":{\"color\":[0,0,0,0,0,0,0,0,0,0,0,0,0,0,0,0,0,0,0,0,0,0,0,0,0,0,0,0,0,0,0,0,0,0,0,0,0,0,0,0,0,0,0,0,0,0,0,0,0,0,0,0,0,0,0,0,0,0,0,0,0,0,0,0,0,0,0,0,0,0,0,0,0,0,0,0,0,0,0,0,0,0,0,0,0,0,0,0,0,0,0,0,0,0,0,0,0,0,0,0,0,0,0,0,0,0,0,0,0,0,0,0,0,0,0,0,0,0,0,0,0,0,0,0,0,0,0,0,0,0,0,0,0,0,0,0,0,0,0,0,0,0,0,0,0,0,0,0,0,0,0,0,0,0,0,0,0,0,0,0,0,0,0,0,0,0,0,0,0,0,0,0,0,0,0,0,0,0,0,0,0,0,0,0,0,0,0,0,0,0,0,0,0,0,0,0,0,0,0,0,1,1,1,1,1,1,1,1,1,1,1,1,1,1,1,1,1,1,1,1,1,1,1,1,1,1,1,1,1,1,1,1,1,1,1,1,1,1,1,1,1,1,1,1,1,1,1,1,1,1,1,1,1,1,1,1,1,1,1,1,1,1,1,1,1,1,1,1,1,1,1,1,1,1,1,1,1,1,1,1,1,1,1,1,1,1,1,1,1,1,1,1,1,1,1,1,1,1,1,1,1,1,1,1,1,1,1,1,1,1,1,1,1,1,1,1,1,1,1,1,1,1,1,1,1,1,1,1,1,1,1,1],\"coloraxis\":\"coloraxis\",\"symbol\":\"circle\"},\"mode\":\"markers\",\"name\":\"\",\"scene\":\"scene\",\"showlegend\":false,\"x\":[64.0,65.4398530762167,66.85032139577595,68.23140495867769,69.58310376492196,70.90541781450872,72.19834710743804,73.46189164370982,74.69605142332415,75.90082644628097,77.07621671258033,78.22222222222224,79.3388429752066,80.42607897153353,81.48393021120295,82.5123966942149,83.51147842056932,84.48117539026632,85.42148760330578,86.33241505968779,87.21395775941232,88.06611570247932,88.8888888888889,89.68227731864097,90.44628099173553,91.18089990817262,91.88613406795224,92.5619834710744,93.20844811753902,93.8255280073462,94.41322314049587,94.97153351698807,95.50045913682277,95.99999999999999,96.47015610651975,96.91092745638198,97.3223140495868,97.70431588613408,98.05693296602387,98.38016528925618,98.67401285583102,98.93847566574838,99.17355371900828,99.37924701561064,99.55555555555554,99.70247933884299,99.8200183654729,99.90817263544538,99.96694214876034,99.9963269054178,99.9963269054178,99.96694214876034,99.90817263544538,99.8200183654729,99.70247933884299,99.55555555555554,99.37924701561064,99.17355371900828,98.93847566574838,98.67401285583102,98.38016528925618,98.05693296602387,97.70431588613408,97.3223140495868,96.91092745638198,96.47015610651975,95.99999999999999,95.50045913682277,94.97153351698807,94.41322314049587,93.8255280073462,93.20844811753902,92.5619834710744,91.88613406795224,91.18089990817262,90.44628099173553,89.68227731864097,88.8888888888889,88.06611570247932,87.21395775941228,86.33241505968779,85.42148760330578,84.48117539026632,83.51147842056932,82.5123966942149,81.48393021120295,80.42607897153353,79.3388429752066,78.22222222222221,77.07621671258033,75.90082644628097,74.69605142332415,73.46189164370982,72.198347107438,70.90541781450872,69.58310376492196,68.23140495867769,66.85032139577595,65.4398530762167,64.0,64.0,65.4398530762167,66.85032139577595,68.23140495867769,69.58310376492196,70.90541781450872,72.19834710743804,73.46189164370982,74.69605142332415,75.90082644628097,77.07621671258033,78.22222222222224,79.3388429752066,80.42607897153353,81.48393021120295,82.5123966942149,83.51147842056932,84.48117539026632,85.42148760330578,86.33241505968779,87.21395775941232,88.06611570247932,88.8888888888889,89.68227731864097,90.44628099173553,91.18089990817262,91.88613406795224,92.5619834710744,93.20844811753902,93.8255280073462,94.41322314049587,94.97153351698807,95.50045913682277,95.99999999999999,96.47015610651975,96.91092745638198,97.3223140495868,97.70431588613408,98.05693296602387,98.38016528925618,98.67401285583102,98.93847566574838,99.17355371900828,99.37924701561064,99.55555555555554,99.70247933884299,99.8200183654729,99.90817263544538,99.96694214876034,99.9963269054178,99.9963269054178,99.96694214876034,99.90817263544538,99.8200183654729,99.70247933884299,99.55555555555554,99.37924701561064,99.17355371900828,98.93847566574838,98.67401285583102,98.38016528925618,98.05693296602387,97.70431588613408,97.3223140495868,96.91092745638198,96.47015610651975,95.99999999999999,95.50045913682277,94.97153351698807,94.41322314049587,93.8255280073462,93.20844811753902,92.5619834710744,91.88613406795224,91.18089990817262,90.44628099173553,89.68227731864097,88.8888888888889,88.06611570247932,87.21395775941228,86.33241505968779,85.42148760330578,84.48117539026632,83.51147842056932,82.5123966942149,81.48393021120295,80.42607897153353,79.3388429752066,78.22222222222221,77.07621671258033,75.90082644628097,74.69605142332415,73.46189164370982,72.198347107438,70.90541781450872,69.58310376492196,68.23140495867769,66.85032139577595,65.4398530762167,64.0,0.4811753902662996,1.421487603305783,2.3324150596877886,3.2139577594123057,4.066115702479338,4.88888888888889,5.682277318640956,6.446280991735539,7.180899908172636,7.8861340679522485,8.561983471074381,9.208448117539028,9.82552800734619,10.413223140495868,10.971533516988064,11.500459136822773,11.999999999999998,12.470156106519743,12.910927456382,13.322314049586776,13.704315886134069,14.056932966023876,14.3801652892562,14.674012855831037,14.938475665748392,15.173553719008265,15.37924701561065,15.555555555555555,15.702479338842974,15.820018365472913,15.908172635445363,15.966942148760328,15.996326905417817,15.996326905417817,15.966942148760328,15.908172635445363,15.82001836547291,15.702479338842974,15.555555555555555,15.37924701561065,15.173553719008265,14.938475665748392,14.674012855831037,14.380165289256196,14.056932966023874,13.704315886134069,13.322314049586776,12.910927456382,12.470156106519743,11.999999999999998,11.500459136822773,10.971533516988064,10.413223140495868,9.825528007346193,9.20844811753903,8.561983471074383,7.886134067952243,7.180899908172631,6.446280991735532,5.682277318640952,4.888888888888886,4.066115702479334,3.2139577594123026,2.332415059687784,1.421487603305783,0.4811753902662996,0.4811753902662996,1.421487603305783,2.3324150596877886,3.2139577594123057,4.066115702479338,4.88888888888889,5.682277318640956,6.446280991735539,7.180899908172636,7.8861340679522485,8.561983471074381,9.208448117539028,9.82552800734619,10.413223140495868,10.971533516988064,11.500459136822773,11.999999999999998,12.470156106519743,12.910927456382,13.322314049586776,13.704315886134069,14.056932966023876,14.3801652892562,14.674012855831037,14.938475665748392,15.173553719008265,15.37924701561065,15.555555555555555,15.702479338842974,15.820018365472913,15.908172635445363,15.966942148760328,15.996326905417817,15.996326905417817,15.966942148760328,15.908172635445363,15.82001836547291,15.702479338842974,15.555555555555555,15.37924701561065,15.173553719008265,14.938475665748392,14.674012855831037,14.380165289256196,14.056932966023874,13.704315886134069,13.322314049586776,12.910927456382,12.470156106519743,11.999999999999998,11.500459136822773,10.971533516988064,10.413223140495868,9.825528007346193,9.20844811753903,8.561983471074383,7.886134067952243,7.180899908172631,6.446280991735532,5.682277318640952,4.888888888888886,4.066115702479334,3.2139577594123026,2.332415059687784,1.421487603305783,0.4811753902662996],\"y\":[36.0,34.560146923783286,33.149678604224064,31.768595041322317,30.41689623507806,29.094582185491273,27.801652892561982,26.538108356290174,25.30394857667585,24.09917355371901,22.923783287419653,21.77777777777777,20.661157024793383,19.57392102846648,18.516069788797058,17.48760330578512,16.48852157943067,15.5188246097337,14.578512396694217,13.667584940312212,12.786042240587694,11.933884297520661,11.111111111111109,10.317722681359044,9.553719008264462,8.819100091827364,8.113865932047752,7.438016528925619,6.791551882460973,6.174471992653811,5.5867768595041305,5.028466483011937,4.499540863177226,4.0,3.5298438934802574,3.089072543617999,2.677685950413224,2.2956841138659305,1.943067033976124,1.6198347107438011,1.3259871441689621,1.061524334251607,0.8264462809917357,0.6207529843893483,0.44444444444444364,0.29752066115702425,0.17998163452708876,0.09182736455463712,0.03305785123966936,0.0036730945821854847,0.0036730945821854847,0.03305785123966936,0.09182736455463712,0.1799816345270895,0.29752066115702525,0.44444444444444486,0.6207529843893483,0.8264462809917357,1.061524334251607,1.3259871441689621,1.6198347107438034,1.9430670339761265,2.295684113865933,2.677685950413224,3.089072543617999,3.5298438934802574,4.0,4.499540863177226,5.028466483011937,5.5867768595041305,6.1744719926538085,6.79155188246097,7.438016528925616,8.113865932047757,8.81910009182737,9.553719008264467,10.317722681359049,11.111111111111114,11.933884297520665,12.786042240587697,13.667584940312215,14.578512396694217,15.5188246097337,16.48852157943067,17.48760330578512,18.516069788797058,19.57392102846648,20.661157024793383,21.77777777777779,22.92378328741966,24.09917355371902,25.303948576675857,26.53810835629018,27.80165289256199,29.094582185491284,30.41689623507806,31.768595041322317,33.149678604224064,34.560146923783286,36.0,36.0,34.560146923783286,33.149678604224064,31.768595041322317,30.41689623507806,29.094582185491273,27.801652892561982,26.538108356290174,25.30394857667585,24.09917355371901,22.923783287419653,21.77777777777777,20.661157024793383,19.57392102846648,18.516069788797058,17.48760330578512,16.48852157943067,15.5188246097337,14.578512396694217,13.667584940312212,12.786042240587694,11.933884297520661,11.111111111111109,10.317722681359044,9.553719008264462,8.819100091827364,8.113865932047752,7.438016528925619,6.791551882460973,6.174471992653811,5.5867768595041305,5.028466483011937,4.499540863177226,4.0,3.5298438934802574,3.089072543617999,2.677685950413224,2.2956841138659305,1.943067033976124,1.6198347107438011,1.3259871441689621,1.061524334251607,0.8264462809917357,0.6207529843893483,0.44444444444444364,0.29752066115702425,0.17998163452708876,0.09182736455463712,0.03305785123966936,0.0036730945821854847,0.0036730945821854847,0.03305785123966936,0.09182736455463712,0.1799816345270895,0.29752066115702525,0.44444444444444486,0.6207529843893483,0.8264462809917357,1.061524334251607,1.3259871441689621,1.6198347107438034,1.9430670339761265,2.295684113865933,2.677685950413224,3.089072543617999,3.5298438934802574,4.0,4.499540863177226,5.028466483011937,5.5867768595041305,6.1744719926538085,6.79155188246097,7.438016528925616,8.113865932047757,8.81910009182737,9.553719008264467,10.317722681359049,11.111111111111114,11.933884297520665,12.786042240587697,13.667584940312215,14.578512396694217,15.5188246097337,16.48852157943067,17.48760330578512,18.516069788797058,19.57392102846648,20.661157024793383,21.77777777777779,22.92378328741966,24.09917355371902,25.303948576675857,26.53810835629018,27.80165289256199,29.094582185491284,30.41689623507806,31.768595041322317,33.149678604224064,34.560146923783286,36.0,15.5188246097337,14.578512396694217,13.667584940312212,12.786042240587694,11.933884297520661,11.111111111111109,10.317722681359044,9.553719008264462,8.819100091827364,8.113865932047752,7.438016528925619,6.791551882460973,6.174471992653811,5.5867768595041305,5.028466483011937,4.499540863177226,4.0,3.5298438934802574,3.089072543617999,2.677685950413224,2.2956841138659305,1.943067033976124,1.6198347107438011,1.3259871441689621,1.061524334251607,0.8264462809917357,0.6207529843893483,0.44444444444444364,0.29752066115702425,0.17998163452708876,0.09182736455463712,0.03305785123966936,0.0036730945821854847,0.0036730945821854847,0.03305785123966936,0.09182736455463712,0.1799816345270895,0.29752066115702525,0.44444444444444486,0.6207529843893483,0.8264462809917357,1.061524334251607,1.3259871441689621,1.6198347107438034,1.9430670339761265,2.295684113865933,2.677685950413224,3.089072543617999,3.5298438934802574,4.0,4.499540863177226,5.028466483011937,5.5867768595041305,6.1744719926538085,6.79155188246097,7.438016528925616,8.113865932047757,8.81910009182737,9.553719008264467,10.317722681359049,11.111111111111114,11.933884297520665,12.786042240587697,13.667584940312215,14.578512396694217,15.5188246097337,15.5188246097337,14.578512396694217,13.667584940312212,12.786042240587694,11.933884297520661,11.111111111111109,10.317722681359044,9.553719008264462,8.819100091827364,8.113865932047752,7.438016528925619,6.791551882460973,6.174471992653811,5.5867768595041305,5.028466483011937,4.499540863177226,4.0,3.5298438934802574,3.089072543617999,2.677685950413224,2.2956841138659305,1.943067033976124,1.6198347107438011,1.3259871441689621,1.061524334251607,0.8264462809917357,0.6207529843893483,0.44444444444444364,0.29752066115702425,0.17998163452708876,0.09182736455463712,0.03305785123966936,0.0036730945821854847,0.0036730945821854847,0.03305785123966936,0.09182736455463712,0.1799816345270895,0.29752066115702525,0.44444444444444486,0.6207529843893483,0.8264462809917357,1.061524334251607,1.3259871441689621,1.6198347107438034,1.9430670339761265,2.295684113865933,2.677685950413224,3.089072543617999,3.5298438934802574,4.0,4.499540863177226,5.028466483011937,5.5867768595041305,6.1744719926538085,6.79155188246097,7.438016528925616,8.113865932047757,8.81910009182737,9.553719008264467,10.317722681359049,11.111111111111114,11.933884297520665,12.786042240587697,13.667584940312215,14.578512396694217,15.5188246097337],\"z\":[-48.0,-47.5563974348861,-47.07511730053422,-46.55766181019729,-46.0054567082243,-45.41985805791142,-44.80215827053088,-44.1535914790498,-43.475338343669385,-42.7685303628688,-42.03425375254549,-41.273552946644976,-40.487433765011204,-39.67686628777537,-38.84278747021257,-37.98610352744811,-37.10769211454299,-36.2084043242131,-35.28906652164172,-34.35048203345292,-33.39343270585815,-32.41868034521849,-31.426968052735443,-30.419021463657796,-29.395549900241235,-28.35724744669459,-27.30479395347143,-26.238855977500073,-25.16008766427371,-24.06913157713246,-22.966619478550218,-21.853173067781697,-20.72940467882088,-19.595917942265423,-18.45330841436532,-17.30216417625452,-16.143066406116343,-14.97658992681367,-13.803303731320542,-12.623771488119136,-11.43855202857402,-10.248199818160865,-9.053265413308532,-7.854295905509707,-6.651835354264779,-5.446425210345509,-4.2386047307978405,-3.0289113870469473,-1.817881267420497,-0.6060494753687513,0.6060494753687513,1.817881267420497,3.0289113870469473,4.238604730797849,5.4464252103455175,6.6518353542647874,7.854295905509707,9.053265413308532,10.248199818160865,11.43855202857402,12.623771488119145,13.80330373132055,14.976589926813679,16.143066406116343,17.30216417625452,18.45330841436532,19.595917942265423,20.72940467882088,21.853173067781697,22.966619478550218,24.069131577132453,25.160087664273707,26.23885597750007,27.30479395347144,28.3572474466946,29.395549900241246,30.419021463657806,31.426968052735454,32.4186803452185,33.393432705858146,34.35048203345293,35.28906652164172,36.2084043242131,37.10769211454299,37.98610352744811,38.84278747021257,39.67686628777537,40.487433765011204,41.27355294664498,42.034253752545496,42.76853036286881,43.47533834366939,44.15359147904981,44.802158270530875,45.419858057911426,46.0054567082243,46.55766181019729,47.07511730053422,47.5563974348861,48.0,-48.0,-47.5563974348861,-47.07511730053422,-46.55766181019729,-46.0054567082243,-45.41985805791142,-44.80215827053088,-44.1535914790498,-43.475338343669385,-42.7685303628688,-42.03425375254549,-41.273552946644976,-40.487433765011204,-39.67686628777537,-38.84278747021257,-37.98610352744811,-37.10769211454299,-36.2084043242131,-35.28906652164172,-34.35048203345292,-33.39343270585815,-32.41868034521849,-31.426968052735443,-30.419021463657796,-29.395549900241235,-28.35724744669459,-27.30479395347143,-26.238855977500073,-25.16008766427371,-24.06913157713246,-22.966619478550218,-21.853173067781697,-20.72940467882088,-19.595917942265423,-18.45330841436532,-17.30216417625452,-16.143066406116343,-14.97658992681367,-13.803303731320542,-12.623771488119136,-11.43855202857402,-10.248199818160865,-9.053265413308532,-7.854295905509707,-6.651835354264779,-5.446425210345509,-4.2386047307978405,-3.0289113870469473,-1.817881267420497,-0.6060494753687513,0.6060494753687513,1.817881267420497,3.0289113870469473,4.238604730797849,5.4464252103455175,6.6518353542647874,7.854295905509707,9.053265413308532,10.248199818160865,11.43855202857402,12.623771488119145,13.80330373132055,14.976589926813679,16.143066406116343,17.30216417625452,18.45330841436532,19.595917942265423,20.72940467882088,21.853173067781697,22.966619478550218,24.069131577132453,25.160087664273707,26.23885597750007,27.30479395347144,28.3572474466946,29.395549900241246,30.419021463657806,31.426968052735454,32.4186803452185,33.393432705858146,34.35048203345293,35.28906652164172,36.2084043242131,37.10769211454299,37.98610352744811,38.84278747021257,39.67686628777537,40.487433765011204,41.27355294664498,42.034253752545496,42.76853036286881,43.47533834366939,44.15359147904981,44.802158270530875,45.419858057911426,46.0054567082243,46.55766181019729,47.07511730053422,47.5563974348861,48.0,-2.7326317878673057,-4.552271372242708,-5.646103164514994,-6.410444576728694,-6.965956813943104,-7.370277311900889,-7.65690287076399,-7.847672090713124,-7.957956712597047,-7.999189618300024,-7.980236498891445,-7.9082016379968705,-7.7889310880501865,-7.62734253027719,-7.427650271614607,-7.193523881341742,-6.928203230275509,-6.6345839646012665,-6.31528237833855,-5.972685590048351,-5.608991020780697,-5.226237943788362,-4.82633306784461,-4.411071570514588,-3.982154622288968,-3.541204179442736,-3.089775636288384,-2.629368792488716,-2.161437492664795,-1.6873982232023292,-1.2086378977978243,-0.7265210239945749,-0.24239641435293155,0.24239641435293155,0.7265210239945749,1.2086378977978243,1.6873982232023326,2.1614374926647986,2.6293687924887195,3.089775636288384,3.541204179442736,3.982154622288968,4.411071570514588,4.826333067844613,5.226237943788365,5.6089910207807,5.972685590048351,6.31528237833855,6.6345839646012665,6.928203230275509,7.193523881341742,7.427650271614607,7.62734253027719,7.788931088050186,7.9082016379968705,7.980236498891445,7.999189618300024,7.957956712597047,7.8476720907131226,7.6569028707639895,7.370277311900888,6.9659568139431025,6.4104445767286915,5.646103164514989,4.552271372242708,2.7326317878673057,-2.7326317878673057,-4.552271372242708,-5.646103164514994,-6.410444576728694,-6.965956813943104,-7.370277311900889,-7.65690287076399,-7.847672090713124,-7.957956712597047,-7.999189618300024,-7.980236498891445,-7.9082016379968705,-7.7889310880501865,-7.62734253027719,-7.427650271614607,-7.193523881341742,-6.928203230275509,-6.6345839646012665,-6.31528237833855,-5.972685590048351,-5.608991020780697,-5.226237943788362,-4.82633306784461,-4.411071570514588,-3.982154622288968,-3.541204179442736,-3.089775636288384,-2.629368792488716,-2.161437492664795,-1.6873982232023292,-1.2086378977978243,-0.7265210239945749,-0.24239641435293155,0.24239641435293155,0.7265210239945749,1.2086378977978243,1.6873982232023326,2.1614374926647986,2.6293687924887195,3.089775636288384,3.541204179442736,3.982154622288968,4.411071570514588,4.826333067844613,5.226237943788365,5.6089910207807,5.972685590048351,6.31528237833855,6.6345839646012665,6.928203230275509,7.193523881341742,7.427650271614607,7.62734253027719,7.788931088050186,7.9082016379968705,7.980236498891445,7.999189618300024,7.957956712597047,7.8476720907131226,7.6569028707639895,7.370277311900888,6.9659568139431025,6.4104445767286915,5.646103164514989,4.552271372242708,2.7326317878673057],\"type\":\"scatter3d\"}],                        {\"template\":{\"data\":{\"histogram2dcontour\":[{\"type\":\"histogram2dcontour\",\"colorbar\":{\"outlinewidth\":0,\"ticks\":\"\"},\"colorscale\":[[0.0,\"#0d0887\"],[0.1111111111111111,\"#46039f\"],[0.2222222222222222,\"#7201a8\"],[0.3333333333333333,\"#9c179e\"],[0.4444444444444444,\"#bd3786\"],[0.5555555555555556,\"#d8576b\"],[0.6666666666666666,\"#ed7953\"],[0.7777777777777778,\"#fb9f3a\"],[0.8888888888888888,\"#fdca26\"],[1.0,\"#f0f921\"]]}],\"choropleth\":[{\"type\":\"choropleth\",\"colorbar\":{\"outlinewidth\":0,\"ticks\":\"\"}}],\"histogram2d\":[{\"type\":\"histogram2d\",\"colorbar\":{\"outlinewidth\":0,\"ticks\":\"\"},\"colorscale\":[[0.0,\"#0d0887\"],[0.1111111111111111,\"#46039f\"],[0.2222222222222222,\"#7201a8\"],[0.3333333333333333,\"#9c179e\"],[0.4444444444444444,\"#bd3786\"],[0.5555555555555556,\"#d8576b\"],[0.6666666666666666,\"#ed7953\"],[0.7777777777777778,\"#fb9f3a\"],[0.8888888888888888,\"#fdca26\"],[1.0,\"#f0f921\"]]}],\"heatmap\":[{\"type\":\"heatmap\",\"colorbar\":{\"outlinewidth\":0,\"ticks\":\"\"},\"colorscale\":[[0.0,\"#0d0887\"],[0.1111111111111111,\"#46039f\"],[0.2222222222222222,\"#7201a8\"],[0.3333333333333333,\"#9c179e\"],[0.4444444444444444,\"#bd3786\"],[0.5555555555555556,\"#d8576b\"],[0.6666666666666666,\"#ed7953\"],[0.7777777777777778,\"#fb9f3a\"],[0.8888888888888888,\"#fdca26\"],[1.0,\"#f0f921\"]]}],\"heatmapgl\":[{\"type\":\"heatmapgl\",\"colorbar\":{\"outlinewidth\":0,\"ticks\":\"\"},\"colorscale\":[[0.0,\"#0d0887\"],[0.1111111111111111,\"#46039f\"],[0.2222222222222222,\"#7201a8\"],[0.3333333333333333,\"#9c179e\"],[0.4444444444444444,\"#bd3786\"],[0.5555555555555556,\"#d8576b\"],[0.6666666666666666,\"#ed7953\"],[0.7777777777777778,\"#fb9f3a\"],[0.8888888888888888,\"#fdca26\"],[1.0,\"#f0f921\"]]}],\"contourcarpet\":[{\"type\":\"contourcarpet\",\"colorbar\":{\"outlinewidth\":0,\"ticks\":\"\"}}],\"contour\":[{\"type\":\"contour\",\"colorbar\":{\"outlinewidth\":0,\"ticks\":\"\"},\"colorscale\":[[0.0,\"#0d0887\"],[0.1111111111111111,\"#46039f\"],[0.2222222222222222,\"#7201a8\"],[0.3333333333333333,\"#9c179e\"],[0.4444444444444444,\"#bd3786\"],[0.5555555555555556,\"#d8576b\"],[0.6666666666666666,\"#ed7953\"],[0.7777777777777778,\"#fb9f3a\"],[0.8888888888888888,\"#fdca26\"],[1.0,\"#f0f921\"]]}],\"surface\":[{\"type\":\"surface\",\"colorbar\":{\"outlinewidth\":0,\"ticks\":\"\"},\"colorscale\":[[0.0,\"#0d0887\"],[0.1111111111111111,\"#46039f\"],[0.2222222222222222,\"#7201a8\"],[0.3333333333333333,\"#9c179e\"],[0.4444444444444444,\"#bd3786\"],[0.5555555555555556,\"#d8576b\"],[0.6666666666666666,\"#ed7953\"],[0.7777777777777778,\"#fb9f3a\"],[0.8888888888888888,\"#fdca26\"],[1.0,\"#f0f921\"]]}],\"mesh3d\":[{\"type\":\"mesh3d\",\"colorbar\":{\"outlinewidth\":0,\"ticks\":\"\"}}],\"scatter\":[{\"fillpattern\":{\"fillmode\":\"overlay\",\"size\":10,\"solidity\":0.2},\"type\":\"scatter\"}],\"parcoords\":[{\"type\":\"parcoords\",\"line\":{\"colorbar\":{\"outlinewidth\":0,\"ticks\":\"\"}}}],\"scatterpolargl\":[{\"type\":\"scatterpolargl\",\"marker\":{\"colorbar\":{\"outlinewidth\":0,\"ticks\":\"\"}}}],\"bar\":[{\"error_x\":{\"color\":\"#2a3f5f\"},\"error_y\":{\"color\":\"#2a3f5f\"},\"marker\":{\"line\":{\"color\":\"#E5ECF6\",\"width\":0.5},\"pattern\":{\"fillmode\":\"overlay\",\"size\":10,\"solidity\":0.2}},\"type\":\"bar\"}],\"scattergeo\":[{\"type\":\"scattergeo\",\"marker\":{\"colorbar\":{\"outlinewidth\":0,\"ticks\":\"\"}}}],\"scatterpolar\":[{\"type\":\"scatterpolar\",\"marker\":{\"colorbar\":{\"outlinewidth\":0,\"ticks\":\"\"}}}],\"histogram\":[{\"marker\":{\"pattern\":{\"fillmode\":\"overlay\",\"size\":10,\"solidity\":0.2}},\"type\":\"histogram\"}],\"scattergl\":[{\"type\":\"scattergl\",\"marker\":{\"colorbar\":{\"outlinewidth\":0,\"ticks\":\"\"}}}],\"scatter3d\":[{\"type\":\"scatter3d\",\"line\":{\"colorbar\":{\"outlinewidth\":0,\"ticks\":\"\"}},\"marker\":{\"colorbar\":{\"outlinewidth\":0,\"ticks\":\"\"}}}],\"scattermapbox\":[{\"type\":\"scattermapbox\",\"marker\":{\"colorbar\":{\"outlinewidth\":0,\"ticks\":\"\"}}}],\"scatterternary\":[{\"type\":\"scatterternary\",\"marker\":{\"colorbar\":{\"outlinewidth\":0,\"ticks\":\"\"}}}],\"scattercarpet\":[{\"type\":\"scattercarpet\",\"marker\":{\"colorbar\":{\"outlinewidth\":0,\"ticks\":\"\"}}}],\"carpet\":[{\"aaxis\":{\"endlinecolor\":\"#2a3f5f\",\"gridcolor\":\"white\",\"linecolor\":\"white\",\"minorgridcolor\":\"white\",\"startlinecolor\":\"#2a3f5f\"},\"baxis\":{\"endlinecolor\":\"#2a3f5f\",\"gridcolor\":\"white\",\"linecolor\":\"white\",\"minorgridcolor\":\"white\",\"startlinecolor\":\"#2a3f5f\"},\"type\":\"carpet\"}],\"table\":[{\"cells\":{\"fill\":{\"color\":\"#EBF0F8\"},\"line\":{\"color\":\"white\"}},\"header\":{\"fill\":{\"color\":\"#C8D4E3\"},\"line\":{\"color\":\"white\"}},\"type\":\"table\"}],\"barpolar\":[{\"marker\":{\"line\":{\"color\":\"#E5ECF6\",\"width\":0.5},\"pattern\":{\"fillmode\":\"overlay\",\"size\":10,\"solidity\":0.2}},\"type\":\"barpolar\"}],\"pie\":[{\"automargin\":true,\"type\":\"pie\"}]},\"layout\":{\"autotypenumbers\":\"strict\",\"colorway\":[\"#636efa\",\"#EF553B\",\"#00cc96\",\"#ab63fa\",\"#FFA15A\",\"#19d3f3\",\"#FF6692\",\"#B6E880\",\"#FF97FF\",\"#FECB52\"],\"font\":{\"color\":\"#2a3f5f\"},\"hovermode\":\"closest\",\"hoverlabel\":{\"align\":\"left\"},\"paper_bgcolor\":\"white\",\"plot_bgcolor\":\"#E5ECF6\",\"polar\":{\"bgcolor\":\"#E5ECF6\",\"angularaxis\":{\"gridcolor\":\"white\",\"linecolor\":\"white\",\"ticks\":\"\"},\"radialaxis\":{\"gridcolor\":\"white\",\"linecolor\":\"white\",\"ticks\":\"\"}},\"ternary\":{\"bgcolor\":\"#E5ECF6\",\"aaxis\":{\"gridcolor\":\"white\",\"linecolor\":\"white\",\"ticks\":\"\"},\"baxis\":{\"gridcolor\":\"white\",\"linecolor\":\"white\",\"ticks\":\"\"},\"caxis\":{\"gridcolor\":\"white\",\"linecolor\":\"white\",\"ticks\":\"\"}},\"coloraxis\":{\"colorbar\":{\"outlinewidth\":0,\"ticks\":\"\"}},\"colorscale\":{\"sequential\":[[0.0,\"#0d0887\"],[0.1111111111111111,\"#46039f\"],[0.2222222222222222,\"#7201a8\"],[0.3333333333333333,\"#9c179e\"],[0.4444444444444444,\"#bd3786\"],[0.5555555555555556,\"#d8576b\"],[0.6666666666666666,\"#ed7953\"],[0.7777777777777778,\"#fb9f3a\"],[0.8888888888888888,\"#fdca26\"],[1.0,\"#f0f921\"]],\"sequentialminus\":[[0.0,\"#0d0887\"],[0.1111111111111111,\"#46039f\"],[0.2222222222222222,\"#7201a8\"],[0.3333333333333333,\"#9c179e\"],[0.4444444444444444,\"#bd3786\"],[0.5555555555555556,\"#d8576b\"],[0.6666666666666666,\"#ed7953\"],[0.7777777777777778,\"#fb9f3a\"],[0.8888888888888888,\"#fdca26\"],[1.0,\"#f0f921\"]],\"diverging\":[[0,\"#8e0152\"],[0.1,\"#c51b7d\"],[0.2,\"#de77ae\"],[0.3,\"#f1b6da\"],[0.4,\"#fde0ef\"],[0.5,\"#f7f7f7\"],[0.6,\"#e6f5d0\"],[0.7,\"#b8e186\"],[0.8,\"#7fbc41\"],[0.9,\"#4d9221\"],[1,\"#276419\"]]},\"xaxis\":{\"gridcolor\":\"white\",\"linecolor\":\"white\",\"ticks\":\"\",\"title\":{\"standoff\":15},\"zerolinecolor\":\"white\",\"automargin\":true,\"zerolinewidth\":2},\"yaxis\":{\"gridcolor\":\"white\",\"linecolor\":\"white\",\"ticks\":\"\",\"title\":{\"standoff\":15},\"zerolinecolor\":\"white\",\"automargin\":true,\"zerolinewidth\":2},\"scene\":{\"xaxis\":{\"backgroundcolor\":\"#E5ECF6\",\"gridcolor\":\"white\",\"linecolor\":\"white\",\"showbackground\":true,\"ticks\":\"\",\"zerolinecolor\":\"white\",\"gridwidth\":2},\"yaxis\":{\"backgroundcolor\":\"#E5ECF6\",\"gridcolor\":\"white\",\"linecolor\":\"white\",\"showbackground\":true,\"ticks\":\"\",\"zerolinecolor\":\"white\",\"gridwidth\":2},\"zaxis\":{\"backgroundcolor\":\"#E5ECF6\",\"gridcolor\":\"white\",\"linecolor\":\"white\",\"showbackground\":true,\"ticks\":\"\",\"zerolinecolor\":\"white\",\"gridwidth\":2}},\"shapedefaults\":{\"line\":{\"color\":\"#2a3f5f\"}},\"annotationdefaults\":{\"arrowcolor\":\"#2a3f5f\",\"arrowhead\":0,\"arrowwidth\":1},\"geo\":{\"bgcolor\":\"white\",\"landcolor\":\"#E5ECF6\",\"subunitcolor\":\"white\",\"showland\":true,\"showlakes\":true,\"lakecolor\":\"white\"},\"title\":{\"x\":0.05},\"mapbox\":{\"style\":\"light\"}}},\"scene\":{\"domain\":{\"x\":[0.0,1.0],\"y\":[0.0,1.0]},\"xaxis\":{\"title\":{\"text\":\"x1square\"}},\"yaxis\":{\"title\":{\"text\":\"x2square\"}},\"zaxis\":{\"title\":{\"text\":\"x1x2\"}}},\"coloraxis\":{\"colorbar\":{\"title\":{\"text\":\"Y\"}},\"colorscale\":[[0.0,\"#0d0887\"],[0.1111111111111111,\"#46039f\"],[0.2222222222222222,\"#7201a8\"],[0.3333333333333333,\"#9c179e\"],[0.4444444444444444,\"#bd3786\"],[0.5555555555555556,\"#d8576b\"],[0.6666666666666666,\"#ed7953\"],[0.7777777777777778,\"#fb9f3a\"],[0.8888888888888888,\"#fdca26\"],[1.0,\"#f0f921\"]]},\"legend\":{\"tracegroupgap\":0},\"margin\":{\"t\":60}},                        {\"responsive\": true}                    ).then(function(){\n",
       "                            \n",
       "var gd = document.getElementById('d9f051cc-b05a-413e-ab79-61005f72efc2');\n",
       "var x = new MutationObserver(function (mutations, observer) {{\n",
       "        var display = window.getComputedStyle(gd).display;\n",
       "        if (!display || display === 'none') {{\n",
       "            console.log([gd, 'removed!']);\n",
       "            Plotly.purge(gd);\n",
       "            observer.disconnect();\n",
       "        }}\n",
       "}});\n",
       "\n",
       "// Listen for the removal of the full notebook cells\n",
       "var notebookContainer = gd.closest('#notebook-container');\n",
       "if (notebookContainer) {{\n",
       "    x.observe(notebookContainer, {childList: true});\n",
       "}}\n",
       "\n",
       "// Listen for the clearing of the current output cell\n",
       "var outputEl = gd.closest('.output');\n",
       "if (outputEl) {{\n",
       "    x.observe(outputEl, {childList: true});\n",
       "}}\n",
       "\n",
       "                        })                };                });            </script>        </div>"
      ]
     },
     "metadata": {},
     "output_type": "display_data"
    }
   ],
   "source": [
    "# !pip install plotly\n",
    "import plotly.express as px\n",
    "fig = px.scatter_3d(df1, x = \"x1square\", y=\"x2square\", z = \"x1x2\", color = \"Y\")\n",
    "fig.show()"
   ]
  },
  {
   "cell_type": "code",
   "execution_count": 78,
   "id": "907161a9-3bb5-4aa4-8658-67805dcdcb3c",
   "metadata": {},
   "outputs": [
    {
     "data": {
      "text/plain": [
       "1.0"
      ]
     },
     "execution_count": 78,
     "metadata": {},
     "output_type": "execute_result"
    }
   ],
   "source": [
    "from sklearn.svm import SVC\n",
    "from sklearn.metrics import accuracy_score\n",
    "cls = SVC(kernel = \"linear\") #why linear? >> we have created polynomial\n",
    "cls.fit(X_train, y_train)\n",
    "y_pred = cls.predict(X_test)\n",
    "accuracy_score(y_test, y_pred)"
   ]
  },
  {
   "cell_type": "code",
   "execution_count": 81,
   "id": "1f9cbb5d-8342-4dd6-80c3-f855d1932559",
   "metadata": {},
   "outputs": [],
   "source": [
    "#till now we have done manually\n",
    "#we will use svc kernel's"
   ]
  },
  {
   "cell_type": "code",
   "execution_count": 88,
   "id": "1a1a1d1f-c204-4416-8962-47d68a34bb77",
   "metadata": {},
   "outputs": [],
   "source": [
    "df=df.dropna()"
   ]
  },
  {
   "cell_type": "code",
   "execution_count": 90,
   "id": "dff27ee7-9c4e-4f91-b904-34ee3029dd3c",
   "metadata": {},
   "outputs": [
    {
     "data": {
      "text/html": [
       "<div>\n",
       "<style scoped>\n",
       "    .dataframe tbody tr th:only-of-type {\n",
       "        vertical-align: middle;\n",
       "    }\n",
       "\n",
       "    .dataframe tbody tr th {\n",
       "        vertical-align: top;\n",
       "    }\n",
       "\n",
       "    .dataframe thead th {\n",
       "        text-align: right;\n",
       "    }\n",
       "</style>\n",
       "<table border=\"1\" class=\"dataframe\">\n",
       "  <thead>\n",
       "    <tr style=\"text-align: right;\">\n",
       "      <th></th>\n",
       "      <th>X1</th>\n",
       "      <th>X2</th>\n",
       "      <th>Y</th>\n",
       "    </tr>\n",
       "  </thead>\n",
       "  <tbody>\n",
       "    <tr>\n",
       "      <th>0</th>\n",
       "      <td>8.000000</td>\n",
       "      <td>-6.000000</td>\n",
       "      <td>0</td>\n",
       "    </tr>\n",
       "    <tr>\n",
       "      <th>1</th>\n",
       "      <td>8.089490</td>\n",
       "      <td>-5.878788</td>\n",
       "      <td>0</td>\n",
       "    </tr>\n",
       "    <tr>\n",
       "      <th>2</th>\n",
       "      <td>8.176205</td>\n",
       "      <td>-5.757576</td>\n",
       "      <td>0</td>\n",
       "    </tr>\n",
       "    <tr>\n",
       "      <th>3</th>\n",
       "      <td>8.260230</td>\n",
       "      <td>-5.636364</td>\n",
       "      <td>0</td>\n",
       "    </tr>\n",
       "    <tr>\n",
       "      <th>4</th>\n",
       "      <td>8.341649</td>\n",
       "      <td>-5.515152</td>\n",
       "      <td>0</td>\n",
       "    </tr>\n",
       "  </tbody>\n",
       "</table>\n",
       "</div>"
      ],
      "text/plain": [
       "         X1        X2  Y\n",
       "0  8.000000 -6.000000  0\n",
       "1  8.089490 -5.878788  0\n",
       "2  8.176205 -5.757576  0\n",
       "3  8.260230 -5.636364  0\n",
       "4  8.341649 -5.515152  0"
      ]
     },
     "execution_count": 90,
     "metadata": {},
     "output_type": "execute_result"
    }
   ],
   "source": [
    "df.head()"
   ]
  },
  {
   "cell_type": "code",
   "execution_count": 92,
   "id": "3ab94d92-609b-4f3d-8ca4-3fe89296cfd9",
   "metadata": {},
   "outputs": [],
   "source": [
    "X = df[[\"X1\", \"X2\"]]\n",
    "y = df[\"Y\"]\n",
    "\n",
    "from sklearn.model_selection import train_test_split\n",
    "X_train, X_test, y_train, y_test = train_test_split(X, y, test_size=0.30, random_state=1)"
   ]
  },
  {
   "cell_type": "code",
   "execution_count": 94,
   "id": "074534c5-afbd-40db-aae3-02fe2e7d703b",
   "metadata": {},
   "outputs": [
    {
     "data": {
      "text/plain": [
       "0.62"
      ]
     },
     "execution_count": 94,
     "metadata": {},
     "output_type": "execute_result"
    }
   ],
   "source": [
    "from sklearn.svm import SVC\n",
    "from sklearn.metrics import accuracy_score\n",
    "cls = SVC(kernel = \"poly\")\n",
    "cls.fit(X_train, y_train)\n",
    "y_pred = cls.predict(X_test)\n",
    "accuracy_score(y_test, y_pred)"
   ]
  },
  {
   "cell_type": "code",
   "execution_count": 96,
   "id": "553c6e36-4194-4b88-966b-0f78ba6a20fc",
   "metadata": {},
   "outputs": [
    {
     "data": {
      "text/plain": [
       "1.0"
      ]
     },
     "execution_count": 96,
     "metadata": {},
     "output_type": "execute_result"
    }
   ],
   "source": [
    "#poly kernel didnt perform well, so we used rbf\n",
    "\n",
    "from sklearn.svm import SVC\n",
    "from sklearn.metrics import accuracy_score\n",
    "cls = SVC(kernel = \"rbf\")\n",
    "cls.fit(X_train, y_train)\n",
    "y_pred = cls.predict(X_test)\n",
    "accuracy_score(y_test, y_pred)"
   ]
  },
  {
   "cell_type": "code",
   "execution_count": 98,
   "id": "3c269007-d0e9-4234-84e8-d3cd17771b26",
   "metadata": {},
   "outputs": [
    {
     "data": {
      "text/plain": [
       "0.65"
      ]
     },
     "execution_count": 98,
     "metadata": {},
     "output_type": "execute_result"
    }
   ],
   "source": [
    "from sklearn.svm import SVC\n",
    "from sklearn.metrics import accuracy_score\n",
    "cls = SVC(kernel = \"sigmoid\") \n",
    "cls.fit(X_train, y_train)\n",
    "y_pred = cls.predict(X_test)\n",
    "accuracy_score(y_test, y_pred)"
   ]
  },
  {
   "cell_type": "code",
   "execution_count": null,
   "id": "8e82ba5e-b77a-4f48-89a6-d6157ee24352",
   "metadata": {},
   "outputs": [],
   "source": [
    "#internal homework>> try to do kernel hyperparameter tuning using grid search cv"
   ]
  }
 ],
 "metadata": {
  "kernelspec": {
   "display_name": "Python 3 (ipykernel)",
   "language": "python",
   "name": "python3"
  },
  "language_info": {
   "codemirror_mode": {
    "name": "ipython",
    "version": 3
   },
   "file_extension": ".py",
   "mimetype": "text/x-python",
   "name": "python",
   "nbconvert_exporter": "python",
   "pygments_lexer": "ipython3",
   "version": "3.12.7"
  }
 },
 "nbformat": 4,
 "nbformat_minor": 5
}
